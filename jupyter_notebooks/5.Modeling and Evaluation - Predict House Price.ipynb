{
  "cells": [
    {
      "cell_type": "markdown",
      "metadata": {
        "id": "0aStgWSO0E0E"
      },
      "source": [
        "# Data Collection"
      ]
    },
    {
      "cell_type": "markdown",
      "metadata": {
        "id": "1eLEkw5O0ECa"
      },
      "source": [
        "## Objectives\n",
        "\n",
        "* Get housing record data from Kaggle and save as raw data\n",
        "* Save in folder: outputs/datasets/collection/\n",
        "\n",
        "## Inputs\n",
        "\n",
        "* Kaggle json file containing authentication token\n",
        "\n",
        "## Outputs\n",
        "\n",
        "* Generate folder to store the raw data from the kaggle url\n",
        "\n"
      ]
    },
    {
      "cell_type": "markdown",
      "metadata": {
        "id": "9uWZXH9LwoQg"
      },
      "source": [
        "---"
      ]
    },
    {
      "cell_type": "markdown",
      "metadata": {
        "id": "cqP-UeN-z3i2"
      },
      "source": [
        "# Change working directory"
      ]
    },
    {
      "cell_type": "markdown",
      "metadata": {},
      "source": [
        "* We are assuming you will store the notebooks in a subfolder, therefore when running the notebook in the editor, you will need to change the working directory"
      ]
    },
    {
      "cell_type": "markdown",
      "metadata": {
        "id": "aOGIGS-uz3i2"
      },
      "source": [
        "We need to change the working directory from its current folder to its parent folder\n",
        "* We access the current directory with os.getcwd()"
      ]
    },
    {
      "cell_type": "code",
      "execution_count": 1,
      "metadata": {
        "id": "wZfF_j-Bz3i4",
        "outputId": "66943449-1436-4c3d-85c7-b85f9f78349b"
      },
      "outputs": [
        {
          "data": {
            "text/plain": [
              "'/workspace/PP5-ML-PROJECT/jupyter_notebooks'"
            ]
          },
          "execution_count": 1,
          "metadata": {},
          "output_type": "execute_result"
        }
      ],
      "source": [
        "import os\n",
        "current_dir = os.getcwd()\n",
        "current_dir"
      ]
    },
    {
      "cell_type": "markdown",
      "metadata": {
        "id": "9MWW8E7lz3i7"
      },
      "source": [
        "We want to make the parent of the current directory the new current directory\n",
        "* os.path.dirname() gets the parent directory\n",
        "* os.chir() defines the new current directory"
      ]
    },
    {
      "cell_type": "code",
      "execution_count": 2,
      "metadata": {
        "id": "TwHsQRWjz3i9",
        "outputId": "86849db3-cd2f-4cc5-ebb8-2d0caafa1a2c"
      },
      "outputs": [
        {
          "name": "stdout",
          "output_type": "stream",
          "text": [
            "You set a new current directory\n"
          ]
        }
      ],
      "source": [
        "os.chdir(os.path.dirname(current_dir))\n",
        "print(\"You set a new current directory\")"
      ]
    },
    {
      "cell_type": "markdown",
      "metadata": {
        "id": "M_xPk_Ijz3i-"
      },
      "source": [
        "Confirm the new current directory"
      ]
    },
    {
      "cell_type": "code",
      "execution_count": 3,
      "metadata": {
        "id": "vz3S-_kjz3jA",
        "outputId": "00b79ae4-75d0-4a96-d193-ac9ef9847ea2"
      },
      "outputs": [
        {
          "data": {
            "text/plain": [
              "'/workspace/PP5-ML-PROJECT'"
            ]
          },
          "execution_count": 3,
          "metadata": {},
          "output_type": "execute_result"
        }
      ],
      "source": [
        "current_dir = os.getcwd()\n",
        "current_dir"
      ]
    },
    {
      "cell_type": "markdown",
      "metadata": {
        "id": "-mavJ8DibrcQ"
      },
      "source": [
        "# Load Data"
      ]
    },
    {
      "cell_type": "code",
      "execution_count": 4,
      "metadata": {},
      "outputs": [
        {
          "data": {
            "text/html": [
              "<div>\n",
              "<style scoped>\n",
              "    .dataframe tbody tr th:only-of-type {\n",
              "        vertical-align: middle;\n",
              "    }\n",
              "\n",
              "    .dataframe tbody tr th {\n",
              "        vertical-align: top;\n",
              "    }\n",
              "\n",
              "    .dataframe thead th {\n",
              "        text-align: right;\n",
              "    }\n",
              "</style>\n",
              "<table border=\"1\" class=\"dataframe\">\n",
              "  <thead>\n",
              "    <tr style=\"text-align: right;\">\n",
              "      <th></th>\n",
              "      <th>1stFlrSF</th>\n",
              "      <th>2ndFlrSF</th>\n",
              "      <th>BedroomAbvGr</th>\n",
              "      <th>BsmtExposure</th>\n",
              "      <th>BsmtFinSF1</th>\n",
              "      <th>BsmtFinType1</th>\n",
              "      <th>BsmtUnfSF</th>\n",
              "      <th>EnclosedPorch</th>\n",
              "      <th>GarageArea</th>\n",
              "      <th>GarageFinish</th>\n",
              "      <th>...</th>\n",
              "      <th>LotFrontage</th>\n",
              "      <th>MasVnrArea</th>\n",
              "      <th>OpenPorchSF</th>\n",
              "      <th>OverallCond</th>\n",
              "      <th>OverallQual</th>\n",
              "      <th>TotalBsmtSF</th>\n",
              "      <th>WoodDeckSF</th>\n",
              "      <th>YearBuilt</th>\n",
              "      <th>YearRemodAdd</th>\n",
              "      <th>SalePrice</th>\n",
              "    </tr>\n",
              "  </thead>\n",
              "  <tbody>\n",
              "    <tr>\n",
              "      <th>0</th>\n",
              "      <td>856.0</td>\n",
              "      <td>854.0</td>\n",
              "      <td>3.0</td>\n",
              "      <td>No</td>\n",
              "      <td>706.0</td>\n",
              "      <td>GLQ</td>\n",
              "      <td>150.0</td>\n",
              "      <td>0.0</td>\n",
              "      <td>548.0</td>\n",
              "      <td>RFn</td>\n",
              "      <td>...</td>\n",
              "      <td>65.0</td>\n",
              "      <td>196.0</td>\n",
              "      <td>61.0</td>\n",
              "      <td>5</td>\n",
              "      <td>7</td>\n",
              "      <td>856.0</td>\n",
              "      <td>0.0</td>\n",
              "      <td>2003</td>\n",
              "      <td>2003</td>\n",
              "      <td>208500.0</td>\n",
              "    </tr>\n",
              "    <tr>\n",
              "      <th>1</th>\n",
              "      <td>1262.0</td>\n",
              "      <td>0.0</td>\n",
              "      <td>3.0</td>\n",
              "      <td>Gd</td>\n",
              "      <td>978.0</td>\n",
              "      <td>ALQ</td>\n",
              "      <td>284.0</td>\n",
              "      <td>NaN</td>\n",
              "      <td>460.0</td>\n",
              "      <td>RFn</td>\n",
              "      <td>...</td>\n",
              "      <td>80.0</td>\n",
              "      <td>0.0</td>\n",
              "      <td>0.0</td>\n",
              "      <td>8</td>\n",
              "      <td>6</td>\n",
              "      <td>1262.0</td>\n",
              "      <td>NaN</td>\n",
              "      <td>1976</td>\n",
              "      <td>1976</td>\n",
              "      <td>181500.0</td>\n",
              "    </tr>\n",
              "    <tr>\n",
              "      <th>2</th>\n",
              "      <td>920.0</td>\n",
              "      <td>866.0</td>\n",
              "      <td>3.0</td>\n",
              "      <td>Mn</td>\n",
              "      <td>486.0</td>\n",
              "      <td>GLQ</td>\n",
              "      <td>434.0</td>\n",
              "      <td>0.0</td>\n",
              "      <td>608.0</td>\n",
              "      <td>RFn</td>\n",
              "      <td>...</td>\n",
              "      <td>68.0</td>\n",
              "      <td>162.0</td>\n",
              "      <td>42.0</td>\n",
              "      <td>5</td>\n",
              "      <td>7</td>\n",
              "      <td>920.0</td>\n",
              "      <td>NaN</td>\n",
              "      <td>2001</td>\n",
              "      <td>2002</td>\n",
              "      <td>223500.0</td>\n",
              "    </tr>\n",
              "    <tr>\n",
              "      <th>3</th>\n",
              "      <td>961.0</td>\n",
              "      <td>NaN</td>\n",
              "      <td>NaN</td>\n",
              "      <td>No</td>\n",
              "      <td>216.0</td>\n",
              "      <td>ALQ</td>\n",
              "      <td>540.0</td>\n",
              "      <td>NaN</td>\n",
              "      <td>642.0</td>\n",
              "      <td>Unf</td>\n",
              "      <td>...</td>\n",
              "      <td>60.0</td>\n",
              "      <td>0.0</td>\n",
              "      <td>35.0</td>\n",
              "      <td>5</td>\n",
              "      <td>7</td>\n",
              "      <td>756.0</td>\n",
              "      <td>NaN</td>\n",
              "      <td>1915</td>\n",
              "      <td>1970</td>\n",
              "      <td>140000.0</td>\n",
              "    </tr>\n",
              "    <tr>\n",
              "      <th>4</th>\n",
              "      <td>1145.0</td>\n",
              "      <td>NaN</td>\n",
              "      <td>4.0</td>\n",
              "      <td>Av</td>\n",
              "      <td>655.0</td>\n",
              "      <td>GLQ</td>\n",
              "      <td>490.0</td>\n",
              "      <td>0.0</td>\n",
              "      <td>836.0</td>\n",
              "      <td>RFn</td>\n",
              "      <td>...</td>\n",
              "      <td>84.0</td>\n",
              "      <td>350.0</td>\n",
              "      <td>84.0</td>\n",
              "      <td>5</td>\n",
              "      <td>8</td>\n",
              "      <td>1145.0</td>\n",
              "      <td>NaN</td>\n",
              "      <td>2000</td>\n",
              "      <td>2000</td>\n",
              "      <td>250000.0</td>\n",
              "    </tr>\n",
              "    <tr>\n",
              "      <th>5</th>\n",
              "      <td>796.0</td>\n",
              "      <td>566.0</td>\n",
              "      <td>1.0</td>\n",
              "      <td>No</td>\n",
              "      <td>732.0</td>\n",
              "      <td>GLQ</td>\n",
              "      <td>64.0</td>\n",
              "      <td>NaN</td>\n",
              "      <td>480.0</td>\n",
              "      <td>Unf</td>\n",
              "      <td>...</td>\n",
              "      <td>85.0</td>\n",
              "      <td>0.0</td>\n",
              "      <td>30.0</td>\n",
              "      <td>5</td>\n",
              "      <td>5</td>\n",
              "      <td>796.0</td>\n",
              "      <td>NaN</td>\n",
              "      <td>1993</td>\n",
              "      <td>1995</td>\n",
              "      <td>143000.0</td>\n",
              "    </tr>\n",
              "    <tr>\n",
              "      <th>6</th>\n",
              "      <td>1694.0</td>\n",
              "      <td>0.0</td>\n",
              "      <td>3.0</td>\n",
              "      <td>Av</td>\n",
              "      <td>1369.0</td>\n",
              "      <td>GLQ</td>\n",
              "      <td>317.0</td>\n",
              "      <td>NaN</td>\n",
              "      <td>636.0</td>\n",
              "      <td>RFn</td>\n",
              "      <td>...</td>\n",
              "      <td>75.0</td>\n",
              "      <td>186.0</td>\n",
              "      <td>57.0</td>\n",
              "      <td>5</td>\n",
              "      <td>8</td>\n",
              "      <td>1686.0</td>\n",
              "      <td>NaN</td>\n",
              "      <td>2004</td>\n",
              "      <td>2005</td>\n",
              "      <td>307000.0</td>\n",
              "    </tr>\n",
              "    <tr>\n",
              "      <th>7</th>\n",
              "      <td>1107.0</td>\n",
              "      <td>983.0</td>\n",
              "      <td>3.0</td>\n",
              "      <td>Mn</td>\n",
              "      <td>859.0</td>\n",
              "      <td>ALQ</td>\n",
              "      <td>216.0</td>\n",
              "      <td>NaN</td>\n",
              "      <td>484.0</td>\n",
              "      <td>NaN</td>\n",
              "      <td>...</td>\n",
              "      <td>NaN</td>\n",
              "      <td>240.0</td>\n",
              "      <td>204.0</td>\n",
              "      <td>6</td>\n",
              "      <td>7</td>\n",
              "      <td>1107.0</td>\n",
              "      <td>NaN</td>\n",
              "      <td>1973</td>\n",
              "      <td>1973</td>\n",
              "      <td>200000.0</td>\n",
              "    </tr>\n",
              "    <tr>\n",
              "      <th>8</th>\n",
              "      <td>1022.0</td>\n",
              "      <td>752.0</td>\n",
              "      <td>2.0</td>\n",
              "      <td>No</td>\n",
              "      <td>0.0</td>\n",
              "      <td>Unf</td>\n",
              "      <td>952.0</td>\n",
              "      <td>NaN</td>\n",
              "      <td>468.0</td>\n",
              "      <td>Unf</td>\n",
              "      <td>...</td>\n",
              "      <td>51.0</td>\n",
              "      <td>0.0</td>\n",
              "      <td>0.0</td>\n",
              "      <td>5</td>\n",
              "      <td>7</td>\n",
              "      <td>952.0</td>\n",
              "      <td>NaN</td>\n",
              "      <td>1931</td>\n",
              "      <td>1950</td>\n",
              "      <td>129900.0</td>\n",
              "    </tr>\n",
              "    <tr>\n",
              "      <th>9</th>\n",
              "      <td>1077.0</td>\n",
              "      <td>0.0</td>\n",
              "      <td>2.0</td>\n",
              "      <td>No</td>\n",
              "      <td>851.0</td>\n",
              "      <td>GLQ</td>\n",
              "      <td>140.0</td>\n",
              "      <td>NaN</td>\n",
              "      <td>205.0</td>\n",
              "      <td>RFn</td>\n",
              "      <td>...</td>\n",
              "      <td>50.0</td>\n",
              "      <td>0.0</td>\n",
              "      <td>4.0</td>\n",
              "      <td>6</td>\n",
              "      <td>5</td>\n",
              "      <td>991.0</td>\n",
              "      <td>NaN</td>\n",
              "      <td>1939</td>\n",
              "      <td>1950</td>\n",
              "      <td>118000.0</td>\n",
              "    </tr>\n",
              "  </tbody>\n",
              "</table>\n",
              "<p>10 rows × 24 columns</p>\n",
              "</div>"
            ],
            "text/plain": [
              "   1stFlrSF  2ndFlrSF  BedroomAbvGr BsmtExposure  BsmtFinSF1 BsmtFinType1  \\\n",
              "0     856.0     854.0           3.0           No       706.0          GLQ   \n",
              "1    1262.0       0.0           3.0           Gd       978.0          ALQ   \n",
              "2     920.0     866.0           3.0           Mn       486.0          GLQ   \n",
              "3     961.0       NaN           NaN           No       216.0          ALQ   \n",
              "4    1145.0       NaN           4.0           Av       655.0          GLQ   \n",
              "5     796.0     566.0           1.0           No       732.0          GLQ   \n",
              "6    1694.0       0.0           3.0           Av      1369.0          GLQ   \n",
              "7    1107.0     983.0           3.0           Mn       859.0          ALQ   \n",
              "8    1022.0     752.0           2.0           No         0.0          Unf   \n",
              "9    1077.0       0.0           2.0           No       851.0          GLQ   \n",
              "\n",
              "   BsmtUnfSF  EnclosedPorch  GarageArea GarageFinish  ...  LotFrontage  \\\n",
              "0      150.0            0.0       548.0          RFn  ...         65.0   \n",
              "1      284.0            NaN       460.0          RFn  ...         80.0   \n",
              "2      434.0            0.0       608.0          RFn  ...         68.0   \n",
              "3      540.0            NaN       642.0          Unf  ...         60.0   \n",
              "4      490.0            0.0       836.0          RFn  ...         84.0   \n",
              "5       64.0            NaN       480.0          Unf  ...         85.0   \n",
              "6      317.0            NaN       636.0          RFn  ...         75.0   \n",
              "7      216.0            NaN       484.0          NaN  ...          NaN   \n",
              "8      952.0            NaN       468.0          Unf  ...         51.0   \n",
              "9      140.0            NaN       205.0          RFn  ...         50.0   \n",
              "\n",
              "   MasVnrArea OpenPorchSF  OverallCond  OverallQual  TotalBsmtSF  WoodDeckSF  \\\n",
              "0       196.0        61.0            5            7        856.0         0.0   \n",
              "1         0.0         0.0            8            6       1262.0         NaN   \n",
              "2       162.0        42.0            5            7        920.0         NaN   \n",
              "3         0.0        35.0            5            7        756.0         NaN   \n",
              "4       350.0        84.0            5            8       1145.0         NaN   \n",
              "5         0.0        30.0            5            5        796.0         NaN   \n",
              "6       186.0        57.0            5            8       1686.0         NaN   \n",
              "7       240.0       204.0            6            7       1107.0         NaN   \n",
              "8         0.0         0.0            5            7        952.0         NaN   \n",
              "9         0.0         4.0            6            5        991.0         NaN   \n",
              "\n",
              "   YearBuilt  YearRemodAdd  SalePrice  \n",
              "0       2003          2003   208500.0  \n",
              "1       1976          1976   181500.0  \n",
              "2       2001          2002   223500.0  \n",
              "3       1915          1970   140000.0  \n",
              "4       2000          2000   250000.0  \n",
              "5       1993          1995   143000.0  \n",
              "6       2004          2005   307000.0  \n",
              "7       1973          1973   200000.0  \n",
              "8       1931          1950   129900.0  \n",
              "9       1939          1950   118000.0  \n",
              "\n",
              "[10 rows x 24 columns]"
            ]
          },
          "execution_count": 4,
          "metadata": {},
          "output_type": "execute_result"
        }
      ],
      "source": [
        "import pandas as pd\n",
        "df = (pd.read_csv(\"outputs/datasets/collection/HousePricesRecords.csv\"))\n",
        "df.head(10)"
      ]
    },
    {
      "cell_type": "markdown",
      "metadata": {},
      "source": [
        "## Create ML Pipeline"
      ]
    },
    {
      "cell_type": "markdown",
      "metadata": {},
      "source": [
        "## ML pipeline for data cleaning and feature engineering"
      ]
    },
    {
      "cell_type": "code",
      "execution_count": 6,
      "metadata": {},
      "outputs": [],
      "source": [
        "from sklearn.base import BaseEstimator, TransformerMixin\n",
        "# Taken from data cleaning notebook\n",
        "class MyCustomEncoder(BaseEstimator, TransformerMixin):\n",
        "\n",
        "  def __init__(self, variables, dic):\n",
        "    if not isinstance(variables, list): \n",
        "      self.variables = [variables]\n",
        "    else: self.variables = variables\n",
        "    self.dic = dic\n",
        "\n",
        "  def fit(self, X, y=None):    \n",
        "    return self\n",
        "\n",
        "  def transform(self, X):\n",
        "    for col in self.variables:\n",
        "      if X[col].dtype == 'object':\n",
        "        X[col] = X[col].replace(dic[col])\n",
        "      else:\n",
        "        print(f\"Warning: {col} data type should be object to use MyCustomEncoder()\")\n",
        "      \n",
        "    return X"
      ]
    },
    {
      "cell_type": "code",
      "execution_count": 7,
      "metadata": {},
      "outputs": [],
      "source": [
        "from sklearn.pipeline import Pipeline\n",
        "\n",
        "from feature_engine.selection import DropFeatures\n",
        "\n",
        "from feature_engine.imputation import MeanMedianImputer\n",
        "\n",
        "from feature_engine.selection import SmartCorrelatedSelection"
      ]
    }
  ],
  "metadata": {
    "accelerator": "GPU",
    "colab": {
      "name": "Data Practitioner Jupyter Notebook.ipynb",
      "provenance": [],
      "toc_visible": true
    },
    "kernelspec": {
      "display_name": "Python 3",
      "language": "python",
      "name": "python3"
    },
    "language_info": {
      "codemirror_mode": {
        "name": "ipython",
        "version": 3
      },
      "file_extension": ".py",
      "mimetype": "text/x-python",
      "name": "python",
      "nbconvert_exporter": "python",
      "pygments_lexer": "ipython3",
      "version": "3.12.2"
    },
    "orig_nbformat": 2
  },
  "nbformat": 4,
  "nbformat_minor": 2
}
