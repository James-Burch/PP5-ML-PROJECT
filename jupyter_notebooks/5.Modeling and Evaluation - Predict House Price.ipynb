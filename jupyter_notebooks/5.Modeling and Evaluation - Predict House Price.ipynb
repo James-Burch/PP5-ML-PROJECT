{
  "cells": [
    {
      "cell_type": "markdown",
      "metadata": {
        "id": "0aStgWSO0E0E"
      },
      "source": [
        "# Modeling and Evaluation - Predict House Price"
      ]
    },
    {
      "cell_type": "markdown",
      "metadata": {
        "id": "1eLEkw5O0ECa"
      },
      "source": [
        "## Objectives\n",
        "\n",
        "* Fit and evaluate a classification model to predict a house sale price when the house features are known.\n",
        "\n",
        "## Inputs\n",
        "* outputs/datasets/collection/housing_data_cleaned.csv\n",
        "* Feature engineering/data cleaning from the feature engineering notebook.\n",
        "\n",
        "## Outputs \n",
        "* Train set\n",
        "* Test set\n",
        "* ML pipeline to predict house sale prices\n",
        "\n"
      ]
    },
    {
      "cell_type": "markdown",
      "metadata": {
        "id": "9uWZXH9LwoQg"
      },
      "source": [
        "---"
      ]
    },
    {
      "cell_type": "markdown",
      "metadata": {
        "id": "cqP-UeN-z3i2"
      },
      "source": [
        "# Change working directory"
      ]
    },
    {
      "cell_type": "markdown",
      "metadata": {},
      "source": [
        "* We are assuming you will store the notebooks in a subfolder, therefore when running the notebook in the editor, you will need to change the working directory"
      ]
    },
    {
      "cell_type": "markdown",
      "metadata": {
        "id": "aOGIGS-uz3i2"
      },
      "source": [
        "We need to change the working directory from its current folder to its parent folder\n",
        "* We access the current directory with os.getcwd()"
      ]
    },
    {
      "cell_type": "code",
      "execution_count": 1,
      "metadata": {
        "id": "wZfF_j-Bz3i4",
        "outputId": "66943449-1436-4c3d-85c7-b85f9f78349b"
      },
      "outputs": [
        {
          "data": {
            "text/plain": [
              "'/workspace/PP5-ML-PROJECT/jupyter_notebooks'"
            ]
          },
          "execution_count": 1,
          "metadata": {},
          "output_type": "execute_result"
        }
      ],
      "source": [
        "import os\n",
        "current_dir = os.getcwd()\n",
        "current_dir"
      ]
    },
    {
      "cell_type": "markdown",
      "metadata": {
        "id": "9MWW8E7lz3i7"
      },
      "source": [
        "We want to make the parent of the current directory the new current directory\n",
        "* os.path.dirname() gets the parent directory\n",
        "* os.chir() defines the new current directory"
      ]
    },
    {
      "cell_type": "code",
      "execution_count": 2,
      "metadata": {
        "id": "TwHsQRWjz3i9",
        "outputId": "86849db3-cd2f-4cc5-ebb8-2d0caafa1a2c"
      },
      "outputs": [
        {
          "name": "stdout",
          "output_type": "stream",
          "text": [
            "You set a new current directory\n"
          ]
        }
      ],
      "source": [
        "os.chdir(os.path.dirname(current_dir))\n",
        "print(\"You set a new current directory\")"
      ]
    },
    {
      "cell_type": "markdown",
      "metadata": {
        "id": "M_xPk_Ijz3i-"
      },
      "source": [
        "Confirm the new current directory"
      ]
    },
    {
      "cell_type": "code",
      "execution_count": 3,
      "metadata": {
        "id": "vz3S-_kjz3jA",
        "outputId": "00b79ae4-75d0-4a96-d193-ac9ef9847ea2"
      },
      "outputs": [
        {
          "data": {
            "text/plain": [
              "'/workspace/PP5-ML-PROJECT'"
            ]
          },
          "execution_count": 3,
          "metadata": {},
          "output_type": "execute_result"
        }
      ],
      "source": [
        "current_dir = os.getcwd()\n",
        "current_dir"
      ]
    },
    {
      "cell_type": "markdown",
      "metadata": {
        "id": "-mavJ8DibrcQ"
      },
      "source": [
        "# Load Data"
      ]
    },
    {
      "cell_type": "code",
      "execution_count": 4,
      "metadata": {},
      "outputs": [
        {
          "data": {
            "text/html": [
              "<div>\n",
              "<style scoped>\n",
              "    .dataframe tbody tr th:only-of-type {\n",
              "        vertical-align: middle;\n",
              "    }\n",
              "\n",
              "    .dataframe tbody tr th {\n",
              "        vertical-align: top;\n",
              "    }\n",
              "\n",
              "    .dataframe thead th {\n",
              "        text-align: right;\n",
              "    }\n",
              "</style>\n",
              "<table border=\"1\" class=\"dataframe\">\n",
              "  <thead>\n",
              "    <tr style=\"text-align: right;\">\n",
              "      <th></th>\n",
              "      <th>1stFlrSF</th>\n",
              "      <th>2ndFlrSF</th>\n",
              "      <th>BedroomAbvGr</th>\n",
              "      <th>BsmtExposure</th>\n",
              "      <th>BsmtFinSF1</th>\n",
              "      <th>BsmtFinType1</th>\n",
              "      <th>BsmtUnfSF</th>\n",
              "      <th>GarageArea</th>\n",
              "      <th>GarageFinish</th>\n",
              "      <th>GarageYrBlt</th>\n",
              "      <th>...</th>\n",
              "      <th>LotArea</th>\n",
              "      <th>LotFrontage</th>\n",
              "      <th>MasVnrArea</th>\n",
              "      <th>OpenPorchSF</th>\n",
              "      <th>OverallCond</th>\n",
              "      <th>OverallQual</th>\n",
              "      <th>TotalBsmtSF</th>\n",
              "      <th>YearBuilt</th>\n",
              "      <th>YearRemodAdd</th>\n",
              "      <th>SalePrice</th>\n",
              "    </tr>\n",
              "  </thead>\n",
              "  <tbody>\n",
              "    <tr>\n",
              "      <th>0</th>\n",
              "      <td>856.0</td>\n",
              "      <td>854.0</td>\n",
              "      <td>3.0</td>\n",
              "      <td>1.0</td>\n",
              "      <td>706.0</td>\n",
              "      <td>6.0</td>\n",
              "      <td>150.0</td>\n",
              "      <td>548.0</td>\n",
              "      <td>2.0</td>\n",
              "      <td>2003.0</td>\n",
              "      <td>...</td>\n",
              "      <td>8450.0</td>\n",
              "      <td>65.0</td>\n",
              "      <td>196.0</td>\n",
              "      <td>61.0</td>\n",
              "      <td>5</td>\n",
              "      <td>7</td>\n",
              "      <td>856.0</td>\n",
              "      <td>2003</td>\n",
              "      <td>2003</td>\n",
              "      <td>208500.0</td>\n",
              "    </tr>\n",
              "    <tr>\n",
              "      <th>1</th>\n",
              "      <td>1262.0</td>\n",
              "      <td>0.0</td>\n",
              "      <td>3.0</td>\n",
              "      <td>4.0</td>\n",
              "      <td>978.0</td>\n",
              "      <td>5.0</td>\n",
              "      <td>284.0</td>\n",
              "      <td>460.0</td>\n",
              "      <td>2.0</td>\n",
              "      <td>1976.0</td>\n",
              "      <td>...</td>\n",
              "      <td>9600.0</td>\n",
              "      <td>80.0</td>\n",
              "      <td>0.0</td>\n",
              "      <td>0.0</td>\n",
              "      <td>8</td>\n",
              "      <td>6</td>\n",
              "      <td>1262.0</td>\n",
              "      <td>1976</td>\n",
              "      <td>1976</td>\n",
              "      <td>181500.0</td>\n",
              "    </tr>\n",
              "    <tr>\n",
              "      <th>2</th>\n",
              "      <td>920.0</td>\n",
              "      <td>866.0</td>\n",
              "      <td>3.0</td>\n",
              "      <td>2.0</td>\n",
              "      <td>486.0</td>\n",
              "      <td>6.0</td>\n",
              "      <td>434.0</td>\n",
              "      <td>608.0</td>\n",
              "      <td>2.0</td>\n",
              "      <td>2001.0</td>\n",
              "      <td>...</td>\n",
              "      <td>11250.0</td>\n",
              "      <td>68.0</td>\n",
              "      <td>162.0</td>\n",
              "      <td>42.0</td>\n",
              "      <td>5</td>\n",
              "      <td>7</td>\n",
              "      <td>920.0</td>\n",
              "      <td>2001</td>\n",
              "      <td>2002</td>\n",
              "      <td>223500.0</td>\n",
              "    </tr>\n",
              "    <tr>\n",
              "      <th>3</th>\n",
              "      <td>961.0</td>\n",
              "      <td>0.0</td>\n",
              "      <td>3.0</td>\n",
              "      <td>1.0</td>\n",
              "      <td>216.0</td>\n",
              "      <td>5.0</td>\n",
              "      <td>540.0</td>\n",
              "      <td>642.0</td>\n",
              "      <td>1.0</td>\n",
              "      <td>1998.0</td>\n",
              "      <td>...</td>\n",
              "      <td>9550.0</td>\n",
              "      <td>60.0</td>\n",
              "      <td>0.0</td>\n",
              "      <td>35.0</td>\n",
              "      <td>5</td>\n",
              "      <td>7</td>\n",
              "      <td>756.0</td>\n",
              "      <td>1915</td>\n",
              "      <td>1970</td>\n",
              "      <td>140000.0</td>\n",
              "    </tr>\n",
              "    <tr>\n",
              "      <th>4</th>\n",
              "      <td>1145.0</td>\n",
              "      <td>0.0</td>\n",
              "      <td>4.0</td>\n",
              "      <td>3.0</td>\n",
              "      <td>655.0</td>\n",
              "      <td>6.0</td>\n",
              "      <td>490.0</td>\n",
              "      <td>836.0</td>\n",
              "      <td>2.0</td>\n",
              "      <td>2000.0</td>\n",
              "      <td>...</td>\n",
              "      <td>14260.0</td>\n",
              "      <td>84.0</td>\n",
              "      <td>350.0</td>\n",
              "      <td>84.0</td>\n",
              "      <td>5</td>\n",
              "      <td>8</td>\n",
              "      <td>1145.0</td>\n",
              "      <td>2000</td>\n",
              "      <td>2000</td>\n",
              "      <td>250000.0</td>\n",
              "    </tr>\n",
              "  </tbody>\n",
              "</table>\n",
              "<p>5 rows × 22 columns</p>\n",
              "</div>"
            ],
            "text/plain": [
              "   1stFlrSF  2ndFlrSF  BedroomAbvGr  BsmtExposure  BsmtFinSF1  BsmtFinType1  \\\n",
              "0     856.0     854.0           3.0           1.0       706.0           6.0   \n",
              "1    1262.0       0.0           3.0           4.0       978.0           5.0   \n",
              "2     920.0     866.0           3.0           2.0       486.0           6.0   \n",
              "3     961.0       0.0           3.0           1.0       216.0           5.0   \n",
              "4    1145.0       0.0           4.0           3.0       655.0           6.0   \n",
              "\n",
              "   BsmtUnfSF  GarageArea  GarageFinish  GarageYrBlt  ...  LotArea  \\\n",
              "0      150.0       548.0           2.0       2003.0  ...   8450.0   \n",
              "1      284.0       460.0           2.0       1976.0  ...   9600.0   \n",
              "2      434.0       608.0           2.0       2001.0  ...  11250.0   \n",
              "3      540.0       642.0           1.0       1998.0  ...   9550.0   \n",
              "4      490.0       836.0           2.0       2000.0  ...  14260.0   \n",
              "\n",
              "   LotFrontage  MasVnrArea  OpenPorchSF  OverallCond  OverallQual  \\\n",
              "0         65.0       196.0         61.0            5            7   \n",
              "1         80.0         0.0          0.0            8            6   \n",
              "2         68.0       162.0         42.0            5            7   \n",
              "3         60.0         0.0         35.0            5            7   \n",
              "4         84.0       350.0         84.0            5            8   \n",
              "\n",
              "   TotalBsmtSF  YearBuilt  YearRemodAdd  SalePrice  \n",
              "0        856.0       2003          2003   208500.0  \n",
              "1       1262.0       1976          1976   181500.0  \n",
              "2        920.0       2001          2002   223500.0  \n",
              "3        756.0       1915          1970   140000.0  \n",
              "4       1145.0       2000          2000   250000.0  \n",
              "\n",
              "[5 rows x 22 columns]"
            ]
          },
          "execution_count": 4,
          "metadata": {},
          "output_type": "execute_result"
        }
      ],
      "source": [
        "import pandas as pd\n",
        "import numpy as np\n",
        "df = (pd.read_csv(\"outputs/datasets/collection/housing_data_cleaned.csv\"))\n",
        "df.head(5)"
      ]
    },
    {
      "cell_type": "markdown",
      "metadata": {},
      "source": [
        "## Create ML Pipeline"
      ]
    },
    {
      "cell_type": "code",
      "execution_count": 5,
      "metadata": {},
      "outputs": [],
      "source": [
        "### Custom Encoder\n",
        "from sklearn.base import BaseEstimator, TransformerMixin\n",
        "class MyCustomEncoder(BaseEstimator, TransformerMixin):\n",
        "\n",
        "  def __init__(self, variables, dic):\n",
        "    if not isinstance(variables, list): \n",
        "      self.variables = [variables]\n",
        "    else: self.variables = variables\n",
        "    self.dic = dic\n",
        "\n",
        "  def fit(self, X, y=None):    \n",
        "    return self\n",
        "\n",
        "  def transform(self, X):\n",
        "    for col in self.variables:\n",
        "      if X[col].dtype == 'object':\n",
        "        X[col] = X[col].replace(dic[col])\n",
        "      else:\n",
        "        print(f\"Warning: {col} data type should be object to use MyCustomEncoder()\")\n",
        "      \n",
        "    return X"
      ]
    },
    {
      "cell_type": "markdown",
      "metadata": {},
      "source": [
        "- **Import all necassary ML algorithms**"
      ]
    },
    {
      "cell_type": "markdown",
      "metadata": {},
      "source": [
        "### Bring in the pipeline from the feature engineering notebook with feature scaling, feature selection and model added:"
      ]
    },
    {
      "cell_type": "code",
      "execution_count": 6,
      "metadata": {},
      "outputs": [],
      "source": [
        "from sklearn.pipeline import Pipeline\n",
        "from feature_engine.selection import DropFeatures\n",
        "from feature_engine.imputation import MeanMedianImputer\n",
        "from feature_engine.selection import SmartCorrelatedSelection\n",
        "from sklearn.preprocessing import StandardScaler\n",
        "from sklearn.feature_selection import SelectFromModel\n",
        "\n",
        "# ML algorithms \n",
        "from sklearn.tree import DecisionTreeRegressor\n",
        "from xgboost import XGBRegressor\n",
        "from sklearn.ensemble import GradientBoostingRegressor, RandomForestRegressor\n",
        "from sklearn.linear_model import LinearRegression\n",
        "from sklearn.ensemble import AdaBoostRegressor\n",
        "from sklearn.ensemble import ExtraTreesRegressor\n",
        "\n",
        "def PipelineOptimization(dic, vars_with_missing_data, model):\n",
        "    \n",
        "      pipeline = Pipeline([\n",
        "            # ('drop_features', DropFeatures(features_to_drop = ['EnclosedPorch', 'WoodDeckSF'])),\n",
        "             \n",
        "            ('custom_encoder', MyCustomEncoder(variables=['BsmtExposure', 'BsmtFinType1', 'GarageFinish', 'KitchenQual'], dic=dic)),       \n",
        "            \n",
        "            ('median_imputer',  MeanMedianImputer(imputation_method='median', variables=vars_with_missing_data)),\n",
        "            \n",
        "            ('corr_sel', SmartCorrelatedSelection(method=\"spearman\", threshold=0.9, selection_method=\"variance\")),\n",
        "            \n",
        "            (\"feat_scaling\", StandardScaler() ),\n",
        "\n",
        "            (\"feat_selection\",  SelectFromModel(model) ),\n",
        "\n",
        "            (\"model\", model ),\n",
        "      ])\n",
        "\n",
        "      return pipeline\n"
      ]
    },
    {
      "cell_type": "markdown",
      "metadata": {},
      "source": [
        "- **Hyperparameter optimization**: Custom hyperparameter optimization to fit my model"
      ]
    },
    {
      "cell_type": "code",
      "execution_count": 7,
      "metadata": {},
      "outputs": [],
      "source": [
        "from sklearn.model_selection import GridSearchCV\n",
        "\n",
        "class HyperparameterOptimizationSearch:\n",
        "\n",
        "    def __init__(self, dic, vars_with_missing_data, models, params):\n",
        "        self.dic = dic\n",
        "        self.vars_with_missing_data = vars_with_missing_data\n",
        "        self.models = models\n",
        "        self.params = params\n",
        "        self.keys = models.keys()\n",
        "        self.grid_searches = {}\n",
        "\n",
        "    def fit(self, X, y, cv, n_jobs, verbose=1, scoring=None, refit=False):\n",
        "        for key in self.keys:\n",
        "            print(f\"\\nRunning GridSearchCV for {key} \\n\")\n",
        "            model=  PipelineOptimization(dic, vars_with_missing_data, self.models[key],)\n",
        "\n",
        "            params = self.params[key]\n",
        "            gs = GridSearchCV(model, params, cv=cv, n_jobs=n_jobs, verbose=verbose, scoring=scoring)\n",
        "            gs.fit(X,y)\n",
        "            self.grid_searches[key] = gs    \n",
        "\n",
        "    def score_summary(self, sort_by='mean_score'):\n",
        "        def row(key, scores, params):\n",
        "            d = {\n",
        "                 'estimator': key,\n",
        "                 'min_score': min(scores),\n",
        "                 'max_score': max(scores),\n",
        "                 'mean_score': np.mean(scores),\n",
        "                 'std_score': np.std(scores),\n",
        "            }\n",
        "            return pd.Series({**params,**d})\n",
        "\n",
        "        rows = []\n",
        "        for k in self.grid_searches:\n",
        "            params = self.grid_searches[k].cv_results_['params']\n",
        "            scores = []\n",
        "            for i in range(self.grid_searches[k].cv):\n",
        "                key = \"split{}_test_score\".format(i)\n",
        "                r = self.grid_searches[k].cv_results_[key]        \n",
        "                scores.append(np.array(r).reshape(-1, 1))\n",
        "\n",
        "\n",
        "            all_scores = np.hstack(scores)\n",
        "            for p, s in zip(params,all_scores):\n",
        "                rows.append((row(k, s, p)))\n",
        "\n",
        "        df = pd.concat(rows, axis=1).T.sort_values([sort_by], ascending=False)\n",
        "\n",
        "        columns = ['estimator', 'min_score', 'mean_score', 'max_score', 'std_score']\n",
        "        columns = columns + [c for c in df.columns if c not in columns]\n",
        "\n",
        "        return df[columns], self.grid_searches\n",
        "        "
      ]
    },
    {
      "cell_type": "markdown",
      "metadata": {},
      "source": [
        "## Split the data into Train and Test sets"
      ]
    },
    {
      "cell_type": "code",
      "execution_count": 8,
      "metadata": {},
      "outputs": [
        {
          "name": "stdout",
          "output_type": "stream",
          "text": [
            "Train Set: (1168, 21) (1168,) Test Set: (292, 21) (292,)\n"
          ]
        }
      ],
      "source": [
        "from sklearn.model_selection import train_test_split\n",
        "X_train, X_test, y_train, y_test = train_test_split(\n",
        "    df.drop(['SalePrice'], axis=1),\n",
        "    df['SalePrice'],\n",
        "    test_size=0.2,\n",
        "    random_state=0,\n",
        ")\n",
        "\n",
        "print('Train Set:', X_train.shape, y_train.shape, 'Test Set:', X_test.shape, y_test.shape)"
      ]
    },
    {
      "cell_type": "markdown",
      "metadata": {},
      "source": [
        "## Grid Search CV from Scikit Learn"
      ]
    },
    {
      "cell_type": "markdown",
      "metadata": {},
      "source": [
        "Lets try 7 ML models to find the best one"
      ]
    },
    {
      "cell_type": "code",
      "execution_count": 9,
      "metadata": {},
      "outputs": [],
      "source": [
        "models_quick_search = {\n",
        "    \"LinearRegression\": LinearRegression(),\n",
        "    \"DecisionTreeRegressor\": DecisionTreeRegressor(random_state=0),\n",
        "    \"RandomForestRegressor\": RandomForestRegressor(random_state=0),\n",
        "    \"ExtraTreesRegressor\": ExtraTreesRegressor(random_state=0),\n",
        "    \"AdaBoostRegressor\": AdaBoostRegressor(random_state=0),\n",
        "    \"GradientBoostingRegressor\": GradientBoostingRegressor(random_state=0),\n",
        "    \"XGBRegressor\": XGBRegressor(random_state=0),\n",
        "}\n",
        "\n",
        "params_quick_search = {\n",
        "    \"LinearRegression\": {},\n",
        "    \"DecisionTreeRegressor\": {},\n",
        "    \"RandomForestRegressor\": {},\n",
        "    \"ExtraTreesRegressor\": {},\n",
        "    \"AdaBoostRegressor\": {},\n",
        "    \"GradientBoostingRegressor\": {},\n",
        "    \"XGBRegressor\": {},\n",
        "}"
      ]
    },
    {
      "cell_type": "code",
      "execution_count": 10,
      "metadata": {},
      "outputs": [],
      "source": [
        "dic = {'BsmtExposure': {'Gd': 4, 'Av': 3, 'Mn': 2, 'No': 1, 'None': 0}, 'BsmtFinType1': {'GLQ': 6, 'ALQ': 5, 'BLQ': 4, 'Rec': 3, 'LwQ': 2, 'Unf': 1, 'None': 0}, 'GarageFinish': {'Fin': 3, 'RFn': 2, 'Unf': 1, 'None': 0}, 'KitchenQual': {'Ex': 4, 'Gd': 3, 'TA': 2, 'Fa': 1, 'Po': 0}}\n",
        "vars_with_missing_data = ['2ndFlrSF', 'BedroomAbvGr', 'BsmtFinType1', 'GarageFinish', 'GarageYrBlt', 'LotFrontage', 'MasVnrArea']     \n"
      ]
    },
    {
      "cell_type": "markdown",
      "metadata": {},
      "source": [
        "# Train 5 models, 1 for each of 5 cross validations for each algorithm and the hyperparameters"
      ]
    },
    {
      "cell_type": "code",
      "execution_count": null,
      "metadata": {},
      "outputs": [
        {
          "name": "stdout",
          "output_type": "stream",
          "text": [
            "\n",
            "Running GridSearchCV for LinearRegression \n",
            "\n",
            "Fitting 5 folds for each of 1 candidates, totalling 5 fits\n",
            "Warning: BsmtExposure data type should be object to use MyCustomEncoder()\n",
            "Warning: BsmtFinType1 data type should be object to use MyCustomEncoder()\n",
            "Warning: GarageFinish data type should be object to use MyCustomEncoder()\n",
            "Warning: KitchenQual data type should be object to use MyCustomEncoder()\n",
            "Warning: BsmtExposure data type should be object to use MyCustomEncoder()\n",
            "Warning: BsmtFinType1 data type should be object to use MyCustomEncoder()\n",
            "Warning: GarageFinish data type should be object to use MyCustomEncoder()\n",
            "Warning: KitchenQual data type should be object to use MyCustomEncoder()\n",
            "Warning: BsmtExposure data type should be object to use MyCustomEncoder()\n",
            "Warning: BsmtFinType1 data type should be object to use MyCustomEncoder()\n",
            "Warning: GarageFinish data type should be object to use MyCustomEncoder()\n",
            "Warning: KitchenQual data type should be object to use MyCustomEncoder()\n",
            "Warning: BsmtExposure data type should be object to use MyCustomEncoder()\n",
            "Warning: BsmtFinType1 data type should be object to use MyCustomEncoder()\n",
            "Warning: GarageFinish data type should be object to use MyCustomEncoder()\n",
            "Warning: KitchenQual data type should be object to use MyCustomEncoder()\n",
            "Warning: BsmtExposure data type should be object to use MyCustomEncoder()\n",
            "Warning: BsmtFinType1 data type should be object to use MyCustomEncoder()\n",
            "Warning: GarageFinish data type should be object to use MyCustomEncoder()\n",
            "Warning: KitchenQual data type should be object to use MyCustomEncoder()\n",
            "Warning: BsmtExposure data type should be object to use MyCustomEncoder()\n",
            "Warning: BsmtFinType1 data type should be object to use MyCustomEncoder()\n",
            "Warning: GarageFinish data type should be object to use MyCustomEncoder()\n",
            "Warning: KitchenQual data type should be object to use MyCustomEncoder()\n",
            "Warning: BsmtExposure data type should be object to use MyCustomEncoder()\n",
            "Warning: BsmtFinType1 data type should be object to use MyCustomEncoder()\n",
            "Warning: GarageFinish data type should be object to use MyCustomEncoder()\n",
            "Warning: KitchenQual data type should be object to use MyCustomEncoder()\n",
            "Warning: BsmtExposure data type should be object to use MyCustomEncoder()\n",
            "Warning: BsmtFinType1 data type should be object to use MyCustomEncoder()\n",
            "Warning: GarageFinish data type should be object to use MyCustomEncoder()\n",
            "Warning: KitchenQual data type should be object to use MyCustomEncoder()\n",
            "Warning: BsmtExposure data type should be object to use MyCustomEncoder()\n",
            "Warning: BsmtFinType1 data type should be object to use MyCustomEncoder()\n",
            "Warning: GarageFinish data type should be object to use MyCustomEncoder()\n",
            "Warning: KitchenQual data type should be object to use MyCustomEncoder()\n",
            "Warning: BsmtExposure data type should be object to use MyCustomEncoder()\n",
            "Warning: BsmtFinType1 data type should be object to use MyCustomEncoder()\n",
            "Warning: GarageFinish data type should be object to use MyCustomEncoder()\n",
            "Warning: KitchenQual data type should be object to use MyCustomEncoder()\n",
            "Warning: BsmtExposure data type should be object to use MyCustomEncoder()\n",
            "Warning: BsmtFinType1 data type should be object to use MyCustomEncoder()\n",
            "Warning: GarageFinish data type should be object to use MyCustomEncoder()\n",
            "Warning: KitchenQual data type should be object to use MyCustomEncoder()\n",
            "\n",
            "Running GridSearchCV for DecisionTreeRegressor \n",
            "\n",
            "Fitting 5 folds for each of 1 candidates, totalling 5 fits\n",
            "Warning: BsmtExposure data type should be object to use MyCustomEncoder()\n",
            "Warning: BsmtFinType1 data type should be object to use MyCustomEncoder()\n",
            "Warning: GarageFinish data type should be object to use MyCustomEncoder()\n",
            "Warning: KitchenQual data type should be object to use MyCustomEncoder()\n",
            "Warning: BsmtExposure data type should be object to use MyCustomEncoder()\n",
            "Warning: BsmtFinType1 data type should be object to use MyCustomEncoder()\n",
            "Warning: BsmtExposure data type should be object to use MyCustomEncoder()\n",
            "Warning: GarageFinish data type should be object to use MyCustomEncoder()\n",
            "Warning: KitchenQual data type should be object to use MyCustomEncoder()\n",
            "Warning: BsmtFinType1 data type should be object to use MyCustomEncoder()\n",
            "Warning: GarageFinish data type should be object to use MyCustomEncoder()\n",
            "Warning: KitchenQual data type should be object to use MyCustomEncoder()\n",
            "Warning: BsmtExposure data type should be object to use MyCustomEncoder()\n",
            "Warning: BsmtFinType1 data type should be object to use MyCustomEncoder()\n",
            "Warning: GarageFinish data type should be object to use MyCustomEncoder()\n",
            "Warning: KitchenQual data type should be object to use MyCustomEncoder()\n",
            "Warning: BsmtExposure data type should be object to use MyCustomEncoder()\n",
            "Warning: BsmtFinType1 data type should be object to use MyCustomEncoder()\n",
            "Warning: GarageFinish data type should be object to use MyCustomEncoder()\n",
            "Warning: KitchenQual data type should be object to use MyCustomEncoder()\n",
            "Warning: BsmtExposure data type should be object to use MyCustomEncoder()\n",
            "Warning: BsmtFinType1 data type should be object to use MyCustomEncoder()\n",
            "Warning: GarageFinish data type should be object to use MyCustomEncoder()\n",
            "Warning: KitchenQual data type should be object to use MyCustomEncoder()\n",
            "Warning: BsmtExposure data type should be object to use MyCustomEncoder()\n",
            "Warning: BsmtFinType1 data type should be object to use MyCustomEncoder()\n",
            "Warning: GarageFinish data type should be object to use MyCustomEncoder()\n",
            "Warning: KitchenQual data type should be object to use MyCustomEncoder()\n",
            "Warning: BsmtExposure data type should be object to use MyCustomEncoder()\n",
            "Warning: BsmtFinType1 data type should be object to use MyCustomEncoder()\n",
            "Warning: GarageFinish data type should be object to use MyCustomEncoder()\n",
            "Warning: KitchenQual data type should be object to use MyCustomEncoder()\n",
            "Warning: BsmtExposure data type should be object to use MyCustomEncoder()\n",
            "Warning: BsmtFinType1 data type should be object to use MyCustomEncoder()\n",
            "Warning: GarageFinish data type should be object to use MyCustomEncoder()\n",
            "Warning: KitchenQual data type should be object to use MyCustomEncoder()\n",
            "Warning: BsmtExposure data type should be object to use MyCustomEncoder()\n",
            "Warning: BsmtFinType1 data type should be object to use MyCustomEncoder()\n",
            "Warning: GarageFinish data type should be object to use MyCustomEncoder()\n",
            "Warning: KitchenQual data type should be object to use MyCustomEncoder()\n",
            "Warning: BsmtExposure data type should be object to use MyCustomEncoder()\n",
            "Warning: BsmtFinType1 data type should be object to use MyCustomEncoder()\n",
            "Warning: GarageFinish data type should be object to use MyCustomEncoder()\n",
            "Warning: KitchenQual data type should be object to use MyCustomEncoder()\n",
            "\n",
            "Running GridSearchCV for RandomForestRegressor \n",
            "\n",
            "Fitting 5 folds for each of 1 candidates, totalling 5 fits\n",
            "Warning: BsmtExposure data type should be object to use MyCustomEncoder()\n",
            "Warning: BsmtFinType1 data type should be object to use MyCustomEncoder()\n",
            "Warning: GarageFinish data type should be object to use MyCustomEncoder()\n",
            "Warning: KitchenQual data type should be object to use MyCustomEncoder()\n",
            "Warning: BsmtExposure data type should be object to use MyCustomEncoder()\n",
            "Warning: BsmtFinType1 data type should be object to use MyCustomEncoder()\n",
            "Warning: GarageFinish data type should be object to use MyCustomEncoder()\n",
            "Warning: KitchenQual data type should be object to use MyCustomEncoder()\n",
            "Warning: BsmtExposure data type should be object to use MyCustomEncoder()\n",
            "Warning: BsmtFinType1 data type should be object to use MyCustomEncoder()\n",
            "Warning: GarageFinish data type should be object to use MyCustomEncoder()\n",
            "Warning: KitchenQual data type should be object to use MyCustomEncoder()\n",
            "Warning: BsmtExposure data type should be object to use MyCustomEncoder()\n",
            "Warning: BsmtFinType1 data type should be object to use MyCustomEncoder()\n",
            "Warning: GarageFinish data type should be object to use MyCustomEncoder()\n",
            "Warning: KitchenQual data type should be object to use MyCustomEncoder()\n",
            "Warning: BsmtExposure data type should be object to use MyCustomEncoder()\n",
            "Warning: BsmtFinType1 data type should be object to use MyCustomEncoder()\n",
            "Warning: GarageFinish data type should be object to use MyCustomEncoder()\n",
            "Warning: KitchenQual data type should be object to use MyCustomEncoder()\n",
            "Warning: BsmtExposure data type should be object to use MyCustomEncoder()\n",
            "Warning: BsmtFinType1 data type should be object to use MyCustomEncoder()\n",
            "Warning: GarageFinish data type should be object to use MyCustomEncoder()\n",
            "Warning: KitchenQual data type should be object to use MyCustomEncoder()\n",
            "Warning: BsmtExposure data type should be object to use MyCustomEncoder()\n",
            "Warning: BsmtFinType1 data type should be object to use MyCustomEncoder()\n",
            "Warning: GarageFinish data type should be object to use MyCustomEncoder()\n",
            "Warning: KitchenQual data type should be object to use MyCustomEncoder()\n",
            "Warning: BsmtExposure data type should be object to use MyCustomEncoder()\n",
            "Warning: BsmtFinType1 data type should be object to use MyCustomEncoder()\n",
            "Warning: GarageFinish data type should be object to use MyCustomEncoder()\n",
            "Warning: KitchenQual data type should be object to use MyCustomEncoder()\n",
            "Warning: BsmtExposure data type should be object to use MyCustomEncoder()\n",
            "Warning: BsmtFinType1 data type should be object to use MyCustomEncoder()\n",
            "Warning: GarageFinish data type should be object to use MyCustomEncoder()\n",
            "Warning: KitchenQual data type should be object to use MyCustomEncoder()\n",
            "Warning: BsmtExposure data type should be object to use MyCustomEncoder()\n",
            "Warning: BsmtFinType1 data type should be object to use MyCustomEncoder()\n",
            "Warning: GarageFinish data type should be object to use MyCustomEncoder()\n",
            "Warning: KitchenQual data type should be object to use MyCustomEncoder()\n",
            "Warning: BsmtExposure data type should be object to use MyCustomEncoder()\n",
            "Warning: BsmtFinType1 data type should be object to use MyCustomEncoder()\n",
            "Warning: GarageFinish data type should be object to use MyCustomEncoder()\n",
            "Warning: KitchenQual data type should be object to use MyCustomEncoder()\n",
            "\n",
            "Running GridSearchCV for ExtraTreesRegressor \n",
            "\n",
            "Fitting 5 folds for each of 1 candidates, totalling 5 fits\n",
            "Warning: BsmtExposure data type should be object to use MyCustomEncoder()\n",
            "Warning: BsmtFinType1 data type should be object to use MyCustomEncoder()\n",
            "Warning: GarageFinish data type should be object to use MyCustomEncoder()\n",
            "Warning: KitchenQual data type should be object to use MyCustomEncoder()\n",
            "Warning: BsmtExposure data type should be object to use MyCustomEncoder()\n",
            "Warning: BsmtFinType1 data type should be object to use MyCustomEncoder()\n",
            "Warning: GarageFinish data type should be object to use MyCustomEncoder()\n",
            "Warning: KitchenQual data type should be object to use MyCustomEncoder()\n",
            "Warning: BsmtExposure data type should be object to use MyCustomEncoder()\n",
            "Warning: BsmtFinType1 data type should be object to use MyCustomEncoder()\n",
            "Warning: GarageFinish data type should be object to use MyCustomEncoder()\n",
            "Warning: KitchenQual data type should be object to use MyCustomEncoder()\n",
            "Warning: BsmtExposure data type should be object to use MyCustomEncoder()\n",
            "Warning: BsmtFinType1 data type should be object to use MyCustomEncoder()\n",
            "Warning: GarageFinish data type should be object to use MyCustomEncoder()\n",
            "Warning: KitchenQual data type should be object to use MyCustomEncoder()\n",
            "Warning: BsmtExposure data type should be object to use MyCustomEncoder()\n",
            "Warning: BsmtFinType1 data type should be object to use MyCustomEncoder()\n",
            "Warning: GarageFinish data type should be object to use MyCustomEncoder()\n",
            "Warning: KitchenQual data type should be object to use MyCustomEncoder()\n",
            "Warning: BsmtExposure data type should be object to use MyCustomEncoder()\n",
            "Warning: BsmtFinType1 data type should be object to use MyCustomEncoder()\n",
            "Warning: GarageFinish data type should be object to use MyCustomEncoder()\n",
            "Warning: KitchenQual data type should be object to use MyCustomEncoder()\n",
            "Warning: BsmtExposure data type should be object to use MyCustomEncoder()\n",
            "Warning: BsmtFinType1 data type should be object to use MyCustomEncoder()\n",
            "Warning: GarageFinish data type should be object to use MyCustomEncoder()\n",
            "Warning: KitchenQual data type should be object to use MyCustomEncoder()\n",
            "Warning: BsmtExposure data type should be object to use MyCustomEncoder()\n",
            "Warning: BsmtFinType1 data type should be object to use MyCustomEncoder()\n",
            "Warning: GarageFinish data type should be object to use MyCustomEncoder()\n",
            "Warning: KitchenQual data type should be object to use MyCustomEncoder()\n",
            "Warning: BsmtExposure data type should be object to use MyCustomEncoder()\n",
            "Warning: BsmtFinType1 data type should be object to use MyCustomEncoder()\n",
            "Warning: GarageFinish data type should be object to use MyCustomEncoder()\n",
            "Warning: KitchenQual data type should be object to use MyCustomEncoder()\n",
            "Warning: BsmtExposure data type should be object to use MyCustomEncoder()\n",
            "Warning: BsmtFinType1 data type should be object to use MyCustomEncoder()\n",
            "Warning: GarageFinish data type should be object to use MyCustomEncoder()\n",
            "Warning: KitchenQual data type should be object to use MyCustomEncoder()\n",
            "Warning: BsmtExposure data type should be object to use MyCustomEncoder()\n",
            "Warning: BsmtFinType1 data type should be object to use MyCustomEncoder()\n",
            "Warning: GarageFinish data type should be object to use MyCustomEncoder()\n",
            "Warning: KitchenQual data type should be object to use MyCustomEncoder()\n",
            "\n",
            "Running GridSearchCV for AdaBoostRegressor \n",
            "\n",
            "Fitting 5 folds for each of 1 candidates, totalling 5 fits\n",
            "Warning: BsmtExposure data type should be object to use MyCustomEncoder()\n",
            "Warning: BsmtFinType1 data type should be object to use MyCustomEncoder()\n",
            "Warning: GarageFinish data type should be object to use MyCustomEncoder()\n",
            "Warning: KitchenQual data type should be object to use MyCustomEncoder()\n",
            "Warning: BsmtExposure data type should be object to use MyCustomEncoder()\n",
            "Warning: BsmtFinType1 data type should be object to use MyCustomEncoder()\n",
            "Warning: GarageFinish data type should be object to use MyCustomEncoder()\n",
            "Warning: KitchenQual data type should be object to use MyCustomEncoder()\n",
            "Warning: BsmtExposure data type should be object to use MyCustomEncoder()\n",
            "Warning: BsmtFinType1 data type should be object to use MyCustomEncoder()\n",
            "Warning: GarageFinish data type should be object to use MyCustomEncoder()\n",
            "Warning: KitchenQual data type should be object to use MyCustomEncoder()\n",
            "Warning: BsmtExposure data type should be object to use MyCustomEncoder()\n",
            "Warning: BsmtFinType1 data type should be object to use MyCustomEncoder()\n",
            "Warning: GarageFinish data type should be object to use MyCustomEncoder()\n",
            "Warning: KitchenQual data type should be object to use MyCustomEncoder()\n",
            "Warning: BsmtExposure data type should be object to use MyCustomEncoder()\n",
            "Warning: BsmtFinType1 data type should be object to use MyCustomEncoder()\n",
            "Warning: GarageFinish data type should be object to use MyCustomEncoder()\n",
            "Warning: KitchenQual data type should be object to use MyCustomEncoder()\n",
            "Warning: BsmtExposure data type should be object to use MyCustomEncoder()\n",
            "Warning: BsmtFinType1 data type should be object to use MyCustomEncoder()\n",
            "Warning: GarageFinish data type should be object to use MyCustomEncoder()\n",
            "Warning: KitchenQual data type should be object to use MyCustomEncoder()\n",
            "Warning: BsmtExposure data type should be object to use MyCustomEncoder()\n",
            "Warning: BsmtFinType1 data type should be object to use MyCustomEncoder()\n",
            "Warning: GarageFinish data type should be object to use MyCustomEncoder()\n",
            "Warning: KitchenQual data type should be object to use MyCustomEncoder()\n",
            "Warning: BsmtExposure data type should be object to use MyCustomEncoder()\n",
            "Warning: BsmtFinType1 data type should be object to use MyCustomEncoder()\n",
            "Warning: GarageFinish data type should be object to use MyCustomEncoder()\n",
            "Warning: KitchenQual data type should be object to use MyCustomEncoder()\n",
            "Warning: BsmtExposure data type should be object to use MyCustomEncoder()\n",
            "Warning: BsmtFinType1 data type should be object to use MyCustomEncoder()\n",
            "Warning: GarageFinish data type should be object to use MyCustomEncoder()\n",
            "Warning: KitchenQual data type should be object to use MyCustomEncoder()\n",
            "Warning: BsmtExposure data type should be object to use MyCustomEncoder()\n",
            "Warning: BsmtFinType1 data type should be object to use MyCustomEncoder()\n",
            "Warning: GarageFinish data type should be object to use MyCustomEncoder()\n",
            "Warning: KitchenQual data type should be object to use MyCustomEncoder()\n",
            "Warning: BsmtExposure data type should be object to use MyCustomEncoder()\n",
            "Warning: BsmtFinType1 data type should be object to use MyCustomEncoder()\n",
            "Warning: GarageFinish data type should be object to use MyCustomEncoder()\n",
            "Warning: KitchenQual data type should be object to use MyCustomEncoder()\n",
            "\n",
            "Running GridSearchCV for GradientBoostingRegressor \n",
            "\n",
            "Fitting 5 folds for each of 1 candidates, totalling 5 fits\n",
            "Warning: BsmtExposure data type should be object to use MyCustomEncoder()\n",
            "Warning: BsmtFinType1 data type should be object to use MyCustomEncoder()\n",
            "Warning: GarageFinish data type should be object to use MyCustomEncoder()\n",
            "Warning: KitchenQual data type should be object to use MyCustomEncoder()\n",
            "Warning: BsmtExposure data type should be object to use MyCustomEncoder()\n",
            "Warning: BsmtFinType1 data type should be object to use MyCustomEncoder()\n",
            "Warning: GarageFinish data type should be object to use MyCustomEncoder()\n",
            "Warning: KitchenQual data type should be object to use MyCustomEncoder()\n",
            "Warning: BsmtExposure data type should be object to use MyCustomEncoder()\n",
            "Warning: BsmtFinType1 data type should be object to use MyCustomEncoder()\n",
            "Warning: GarageFinish data type should be object to use MyCustomEncoder()\n",
            "Warning: KitchenQual data type should be object to use MyCustomEncoder()\n",
            "Warning: BsmtExposure data type should be object to use MyCustomEncoder()\n",
            "Warning: BsmtFinType1 data type should be object to use MyCustomEncoder()\n",
            "Warning: GarageFinish data type should be object to use MyCustomEncoder()\n",
            "Warning: KitchenQual data type should be object to use MyCustomEncoder()\n",
            "Warning: BsmtExposure data type should be object to use MyCustomEncoder()\n",
            "Warning: BsmtFinType1 data type should be object to use MyCustomEncoder()\n",
            "Warning: GarageFinish data type should be object to use MyCustomEncoder()\n",
            "Warning: KitchenQual data type should be object to use MyCustomEncoder()\n",
            "Warning: BsmtExposure data type should be object to use MyCustomEncoder()\n",
            "Warning: BsmtFinType1 data type should be object to use MyCustomEncoder()\n",
            "Warning: GarageFinish data type should be object to use MyCustomEncoder()\n",
            "Warning: KitchenQual data type should be object to use MyCustomEncoder()\n",
            "Warning: BsmtExposure data type should be object to use MyCustomEncoder()\n",
            "Warning: BsmtFinType1 data type should be object to use MyCustomEncoder()\n",
            "Warning: GarageFinish data type should be object to use MyCustomEncoder()\n",
            "Warning: KitchenQual data type should be object to use MyCustomEncoder()\n",
            "Warning: BsmtExposure data type should be object to use MyCustomEncoder()\n",
            "Warning: BsmtFinType1 data type should be object to use MyCustomEncoder()\n",
            "Warning: GarageFinish data type should be object to use MyCustomEncoder()\n",
            "Warning: KitchenQual data type should be object to use MyCustomEncoder()\n",
            "Warning: BsmtExposure data type should be object to use MyCustomEncoder()\n",
            "Warning: BsmtFinType1 data type should be object to use MyCustomEncoder()\n",
            "Warning: GarageFinish data type should be object to use MyCustomEncoder()\n",
            "Warning: KitchenQual data type should be object to use MyCustomEncoder()\n",
            "Warning: BsmtExposure data type should be object to use MyCustomEncoder()\n",
            "Warning: BsmtFinType1 data type should be object to use MyCustomEncoder()\n",
            "Warning: GarageFinish data type should be object to use MyCustomEncoder()\n",
            "Warning: KitchenQual data type should be object to use MyCustomEncoder()\n",
            "Warning: BsmtExposure data type should be object to use MyCustomEncoder()\n",
            "Warning: BsmtFinType1 data type should be object to use MyCustomEncoder()\n",
            "Warning: GarageFinish data type should be object to use MyCustomEncoder()\n",
            "Warning: KitchenQual data type should be object to use MyCustomEncoder()\n",
            "\n",
            "Running GridSearchCV for XGBRegressor \n",
            "\n",
            "Fitting 5 folds for each of 1 candidates, totalling 5 fits\n",
            "Warning: BsmtExposure data type should be object to use MyCustomEncoder()\n",
            "Warning: BsmtFinType1 data type should be object to use MyCustomEncoder()\n",
            "Warning: GarageFinish data type should be object to use MyCustomEncoder()\n",
            "Warning: KitchenQual data type should be object to use MyCustomEncoder()\n",
            "Warning: BsmtExposure data type should be object to use MyCustomEncoder()\n",
            "Warning: BsmtFinType1 data type should be object to use MyCustomEncoder()\n",
            "Warning: GarageFinish data type should be object to use MyCustomEncoder()\n",
            "Warning: KitchenQual data type should be object to use MyCustomEncoder()\n",
            "Warning: BsmtExposure data type should be object to use MyCustomEncoder()\n",
            "Warning: BsmtFinType1 data type should be object to use MyCustomEncoder()\n",
            "Warning: GarageFinish data type should be object to use MyCustomEncoder()\n",
            "Warning: KitchenQual data type should be object to use MyCustomEncoder()\n",
            "Warning: BsmtExposure data type should be object to use MyCustomEncoder()\n",
            "Warning: BsmtFinType1 data type should be object to use MyCustomEncoder()\n",
            "Warning: GarageFinish data type should be object to use MyCustomEncoder()\n",
            "Warning: KitchenQual data type should be object to use MyCustomEncoder()\n",
            "Warning: BsmtExposure data type should be object to use MyCustomEncoder()\n",
            "Warning: BsmtFinType1 data type should be object to use MyCustomEncoder()\n",
            "Warning: GarageFinish data type should be object to use MyCustomEncoder()\n",
            "Warning: KitchenQual data type should be object to use MyCustomEncoder()\n"
          ]
        },
        {
          "name": "stderr",
          "output_type": "stream",
          "text": [
            "/workspace/.pip-modules/lib/python3.12/site-packages/xgboost/data.py:440: FutureWarning: is_sparse is deprecated and will be removed in a future version. Check `isinstance(dtype, pd.SparseDtype)` instead.\n",
            "  if is_sparse(data):\n",
            "/workspace/.pip-modules/lib/python3.12/site-packages/xgboost/data.py:440: FutureWarning: is_sparse is deprecated and will be removed in a future version. Check `isinstance(dtype, pd.SparseDtype)` instead.\n",
            "  if is_sparse(data):\n",
            "/workspace/.pip-modules/lib/python3.12/site-packages/xgboost/data.py:440: FutureWarning: is_sparse is deprecated and will be removed in a future version. Check `isinstance(dtype, pd.SparseDtype)` instead.\n",
            "  if is_sparse(data):\n",
            "/workspace/.pip-modules/lib/python3.12/site-packages/xgboost/data.py:440: FutureWarning: is_sparse is deprecated and will be removed in a future version. Check `isinstance(dtype, pd.SparseDtype)` instead.\n",
            "  if is_sparse(data):\n",
            "/workspace/.pip-modules/lib/python3.12/site-packages/xgboost/data.py:440: FutureWarning: is_sparse is deprecated and will be removed in a future version. Check `isinstance(dtype, pd.SparseDtype)` instead.\n",
            "  if is_sparse(data):\n",
            "/workspace/.pip-modules/lib/python3.12/site-packages/xgboost/data.py:440: FutureWarning: is_sparse is deprecated and will be removed in a future version. Check `isinstance(dtype, pd.SparseDtype)` instead.\n",
            "  if is_sparse(data):\n",
            "/workspace/.pip-modules/lib/python3.12/site-packages/xgboost/data.py:440: FutureWarning: is_sparse is deprecated and will be removed in a future version. Check `isinstance(dtype, pd.SparseDtype)` instead.\n",
            "  if is_sparse(data):\n",
            "/workspace/.pip-modules/lib/python3.12/site-packages/xgboost/data.py:440: FutureWarning: is_sparse is deprecated and will be removed in a future version. Check `isinstance(dtype, pd.SparseDtype)` instead.\n",
            "  if is_sparse(data):\n",
            "/workspace/.pip-modules/lib/python3.12/site-packages/xgboost/data.py:440: FutureWarning: is_sparse is deprecated and will be removed in a future version. Check `isinstance(dtype, pd.SparseDtype)` instead.\n",
            "  if is_sparse(data):\n"
          ]
        },
        {
          "name": "stdout",
          "output_type": "stream",
          "text": [
            "Warning: BsmtExposure data type should be object to use MyCustomEncoder()\n",
            "Warning: BsmtFinType1 data type should be object to use MyCustomEncoder()\n",
            "Warning: GarageFinish data type should be object to use MyCustomEncoder()\n",
            "Warning: KitchenQual data type should be object to use MyCustomEncoder()\n",
            "Warning: BsmtExposure data type should be object to use MyCustomEncoder()\n",
            "Warning: BsmtFinType1 data type should be object to use MyCustomEncoder()\n",
            "Warning: GarageFinish data type should be object to use MyCustomEncoder()\n",
            "Warning: KitchenQual data type should be object to use MyCustomEncoder()\n",
            "Warning: BsmtExposure data type should be object to use MyCustomEncoder()\n",
            "Warning: BsmtFinType1 data type should be object to use MyCustomEncoder()\n",
            "Warning: GarageFinish data type should be object to use MyCustomEncoder()\n",
            "Warning: KitchenQual data type should be object to use MyCustomEncoder()\n",
            "Warning: BsmtExposure data type should be object to use MyCustomEncoder()\n",
            "Warning: BsmtFinType1 data type should be object to use MyCustomEncoder()\n",
            "Warning: GarageFinish data type should be object to use MyCustomEncoder()\n",
            "Warning: KitchenQual data type should be object to use MyCustomEncoder()\n",
            "Warning: BsmtExposure data type should be object to use MyCustomEncoder()\n",
            "Warning: BsmtFinType1 data type should be object to use MyCustomEncoder()\n",
            "Warning: GarageFinish data type should be object to use MyCustomEncoder()\n",
            "Warning: KitchenQual data type should be object to use MyCustomEncoder()\n"
          ]
        },
        {
          "name": "stderr",
          "output_type": "stream",
          "text": [
            "/workspace/.pip-modules/lib/python3.12/site-packages/xgboost/data.py:440: FutureWarning: is_sparse is deprecated and will be removed in a future version. Check `isinstance(dtype, pd.SparseDtype)` instead.\n",
            "  if is_sparse(data):\n"
          ]
        },
        {
          "name": "stdout",
          "output_type": "stream",
          "text": [
            "Warning: BsmtExposure data type should be object to use MyCustomEncoder()\n",
            "Warning: BsmtFinType1 data type should be object to use MyCustomEncoder()\n",
            "Warning: GarageFinish data type should be object to use MyCustomEncoder()\n",
            "Warning: KitchenQual data type should be object to use MyCustomEncoder()\n"
          ]
        },
        {
          "name": "stderr",
          "output_type": "stream",
          "text": [
            "/workspace/.pip-modules/lib/python3.12/site-packages/xgboost/data.py:440: FutureWarning: is_sparse is deprecated and will be removed in a future version. Check `isinstance(dtype, pd.SparseDtype)` instead.\n",
            "  if is_sparse(data):\n",
            "/workspace/.pip-modules/lib/python3.12/site-packages/xgboost/data.py:440: FutureWarning: is_sparse is deprecated and will be removed in a future version. Check `isinstance(dtype, pd.SparseDtype)` instead.\n",
            "  if is_sparse(data):\n"
          ]
        }
      ],
      "source": [
        "search = HyperparameterOptimizationSearch(dic=dic, vars_with_missing_data=vars_with_missing_data, models=models_quick_search, params=params_quick_search)\n",
        "search.fit(X_train, y_train, scoring='r2', n_jobs=-1, cv=5)"
      ]
    },
    {
      "cell_type": "markdown",
      "metadata": {},
      "source": [
        "## Lets check the results"
      ]
    },
    {
      "cell_type": "code",
      "execution_count": null,
      "metadata": {},
      "outputs": [],
      "source": [
        "grid_search_summary, grid_search_pipelines = search.score_summary(sort_by='mean_score')\n",
        "grid_search_summary"
      ]
    },
    {
      "cell_type": "markdown",
      "metadata": {},
      "source": [
        "## Use hyperparameter optimization on the top 4 models using hyperparameter combinations"
      ]
    },
    {
      "cell_type": "code",
      "execution_count": 13,
      "metadata": {},
      "outputs": [],
      "source": [
        "models_search = {\n",
        "    \"LinearRegression\": LinearRegression(),\n",
        "    \"GradientBoostingRegressor\": GradientBoostingRegressor(random_state=0),\n",
        "    \"ExtraTreesRegressor\": ExtraTreesRegressor(random_state=0),\n",
        "    \"RandomForestRegressor\": RandomForestRegressor(random_state=0),\n",
        "}\n",
        "\n",
        "params_search = {\n",
        "    \"LinearRegression\":{},\n",
        "    \"GradientBoostingRegressor\":{'model__n_estimators': [100,50,140],\n",
        "                                 'model__learning_rate':[0.1, 0.01, 0.001],\n",
        "                                 'model__max_depth': [3,15, None],\n",
        "                                 'model__min_samples_split': [2,50],\n",
        "                                 'model__min_samples_leaf': [1,50],\n",
        "                                 'model__max_leaf_nodes': [None,50],\n",
        "    },\n",
        "    \"ExtraTreesRegressor\":{'model__n_estimators': [100,50,150],\n",
        "                           'model__max_depth': [None, 3, 15],\n",
        "                           'model__min_samples_split': [2, 50],\n",
        "                           'model__min_samples_leaf': [1,50],\n",
        "    },\n",
        "    \"RandomForestRegressor\":{'model__n_estimators': [100,50, 140],\n",
        "                             'model__max_depth': [None,4, 15],\n",
        "                             'model__min_samples_split': [2,50],\n",
        "                             'model__min_samples_leaf': [1,50],\n",
        "                             'model__max_leaf_nodes': [None,50],\n",
        "    },\n",
        "}"
      ]
    },
    {
      "cell_type": "markdown",
      "metadata": {},
      "source": [
        "## Train our models with Grid Search CV"
      ]
    },
    {
      "cell_type": "markdown",
      "metadata": {},
      "source": [
        "* Totalling 1625 models"
      ]
    },
    {
      "cell_type": "code",
      "execution_count": null,
      "metadata": {},
      "outputs": [],
      "source": [
        "search = HyperparameterOptimizationSearch(dic=dic, vars_with_missing_data=vars_with_missing_data, models=models_search, params=params_search)\n",
        "\n",
        "search.fit(X_train, y_train, scoring= 'r2', n_jobs=1, cv=5)"
      ]
    },
    {
      "cell_type": "markdown",
      "metadata": {},
      "source": [
        "## Lets check the results"
      ]
    },
    {
      "cell_type": "code",
      "execution_count": null,
      "metadata": {},
      "outputs": [],
      "source": [
        "grid_search_summary, grid_search_pipelines = search.score_summary(sort_by='mean_score')\n",
        "grid_search_summary.head(50)"
      ]
    },
    {
      "cell_type": "markdown",
      "metadata": {},
      "source": [
        "### Now we will look into all 4 algorithms"
      ]
    },
    {
      "cell_type": "markdown",
      "metadata": {},
      "source": [
        "## **1. ExtraTreesRegressor**"
      ]
    },
    {
      "cell_type": "code",
      "execution_count": null,
      "metadata": {},
      "outputs": [],
      "source": [
        "best_model = grid_search_summary.iloc[1,0]\n",
        "best_model"
      ]
    },
    {
      "cell_type": "markdown",
      "metadata": {},
      "source": [
        "* Best model parameters"
      ]
    },
    {
      "cell_type": "code",
      "execution_count": null,
      "metadata": {},
      "outputs": [],
      "source": [
        "grid_search_pipelines[best_model].best_params_"
      ]
    },
    {
      "cell_type": "markdown",
      "metadata": {},
      "source": [
        "* Best model pipeline"
      ]
    },
    {
      "cell_type": "code",
      "execution_count": null,
      "metadata": {},
      "outputs": [],
      "source": [
        "best_pipeline = grid_search_pipelines[best_model].best_estimator_\n",
        "best_pipeline"
      ]
    },
    {
      "cell_type": "markdown",
      "metadata": {},
      "source": [
        "## Assess the Feature Importance"
      ]
    },
    {
      "cell_type": "code",
      "execution_count": null,
      "metadata": {},
      "outputs": [],
      "source": [
        "import matplotlib.pyplot as plt\n",
        "import seaborn as sns\n",
        "import pandas as pd\n",
        "from sklearn.pipeline import Pipeline\n",
        "\n",
        "sns.set_style('whitegrid')\n",
        "\n",
        "# Apply pipeline transformation to X_train\n",
        "transformed_array = Pipeline(best_pipeline.steps[:4]).transform(X_train)\n",
        "\n",
        "# Extract selected features correctly\n",
        "selected_mask = best_pipeline['feat_selection'].get_support()\n",
        "selected_features = [col for col, keep in zip(X_train.columns, selected_mask) if keep]\n",
        "\n",
        "# Extract final selected features\n",
        "best_features = selected_features\n",
        "\n",
        "# Create DataFrame with selected feature importance\n",
        "df_feature_importance = pd.DataFrame({\n",
        "    'Feature': selected_features,\n",
        "    'Importance': best_pipeline['model'].feature_importances_\n",
        "}).sort_values(by='Importance', ascending=False)\n",
        "\n",
        "# Print the most important features\n",
        "print(f\"* These are the {len(best_features)} most important features in descending order. \"\n",
        "      f\"The model was trained on them: \\n{df_feature_importance['Feature'].to_list()}\")\n",
        "\n",
        "# Plot feature importance\n",
        "df_feature_importance.plot(kind='bar', x='Feature', y='Importance')\n",
        "\n",
        "plt.show()\n"
      ]
    },
    {
      "cell_type": "markdown",
      "metadata": {},
      "source": [
        "### Evaluate Train and Test Sets"
      ]
    },
    {
      "cell_type": "code",
      "execution_count": 24,
      "metadata": {},
      "outputs": [],
      "source": [
        "# Following code is from a SKlearn lesson from Code Institute\n",
        "from sklearn.metrics import r2_score, mean_squared_error, mean_absolute_error \n",
        "import numpy as np\n",
        "\n",
        "def regression_performance(X_train, y_train, X_test, y_test,pipeline):\n",
        "\tprint(\"Model Evaluation \\n\")\n",
        "\tprint(\"* Train Set\")\n",
        "\tregression_evaluation(X_train,y_train,pipeline)\n",
        "\tprint(\"* Test Set\")\n",
        "\tregression_evaluation(X_test,y_test,pipeline)\n",
        "\n",
        "def regression_evaluation(X,y,pipeline):\n",
        "  prediction = pipeline.predict(X)\n",
        "  print('R2 Score:', r2_score(y, prediction).round(3))  \n",
        "  print('Mean Absolute Error:', mean_absolute_error(y, prediction).round(3))  \n",
        "  print('Mean Squared Error:', mean_squared_error(y, prediction).round(3))  \n",
        "  print('Root Mean Squared Error:', np.sqrt(mean_squared_error(y, prediction)).round(3))\n",
        "  print(\"\\n\")\n",
        "\n",
        "\n",
        "def regression_evaluation_plots(X_train, y_train, X_test, y_test,pipeline, alpha_scatter=0.5):\n",
        "  pred_train = pipeline.predict(X_train)\n",
        "  pred_test = pipeline.predict(X_test)\n",
        "\n",
        "\n",
        "  fig, axes = plt.subplots(nrows=1, ncols=2, figsize=(12,6))\n",
        "  sns.scatterplot(x=y_train , y=pred_train, alpha=alpha_scatter, ax=axes[0])\n",
        "  sns.lineplot(x=y_train , y=y_train, color='red', ax=axes[0])\n",
        "  axes[0].set_xlabel(\"Actual\")\n",
        "  axes[0].tick_params(axis='x', rotation=90)\n",
        "  axes[0].set_ylabel(\"Predictions\")\n",
        "  axes[0].set_title(\"Train Set\")\n",
        "\n",
        "  sns.scatterplot(x=y_test , y=pred_test, alpha=alpha_scatter, ax=axes[1])\n",
        "  sns.lineplot(x=y_test , y=y_test, color='red', ax=axes[1])\n",
        "  axes[1].set_xlabel(\"Actual\")\n",
        "  axes[1].tick_params(axis='x', rotation=90)\n",
        "  axes[1].set_ylabel(\"Predictions\")\n",
        "  axes[1].set_title(\"Test Set\")\n",
        "\n",
        "plt.show()"
      ]
    },
    {
      "cell_type": "markdown",
      "metadata": {},
      "source": [
        "### Evaluate Model Performance"
      ]
    },
    {
      "cell_type": "code",
      "execution_count": null,
      "metadata": {},
      "outputs": [],
      "source": [
        "regression_performance(X_train, y_train, X_test, y_test,best_pipeline)\n",
        "regression_evaluation_plots(X_train, y_train, X_test, y_test, best_pipeline)\n"
      ]
    },
    {
      "cell_type": "markdown",
      "metadata": {},
      "source": [
        "**The R2 score on the test set is 0.77, this means it passes the goal to perform above an R2 score of at least 0.75. This model is trained on 5 features.**"
      ]
    },
    {
      "cell_type": "markdown",
      "metadata": {},
      "source": [
        "## **2. RandomForestRegressor**"
      ]
    },
    {
      "cell_type": "code",
      "execution_count": null,
      "metadata": {},
      "outputs": [],
      "source": [
        "best_model = grid_search_summary.iloc[45,0]\n",
        "best_model"
      ]
    },
    {
      "cell_type": "markdown",
      "metadata": {},
      "source": [
        "* Best model parameters"
      ]
    },
    {
      "cell_type": "code",
      "execution_count": null,
      "metadata": {},
      "outputs": [],
      "source": [
        "grid_search_pipelines[best_model].best_params_"
      ]
    },
    {
      "cell_type": "markdown",
      "metadata": {},
      "source": [
        "* Best model pipeline"
      ]
    },
    {
      "cell_type": "code",
      "execution_count": null,
      "metadata": {},
      "outputs": [],
      "source": [
        "best_pipeline = grid_search_pipelines[best_model].best_estimator_\n",
        "best_pipeline"
      ]
    },
    {
      "cell_type": "markdown",
      "metadata": {},
      "source": [
        "## Assess the Feature Importance"
      ]
    },
    {
      "cell_type": "code",
      "execution_count": null,
      "metadata": {},
      "outputs": [],
      "source": [
        "import matplotlib.pyplot as plt\n",
        "import seaborn as sns\n",
        "import pandas as pd\n",
        "from sklearn.pipeline import Pipeline\n",
        "\n",
        "sns.set_style('whitegrid')\n",
        "\n",
        "# Apply pipeline transformation to X_train\n",
        "transformed_array = Pipeline(best_pipeline.steps[:4]).transform(X_train)\n",
        "\n",
        "# Extract selected features correctly\n",
        "selected_mask = best_pipeline['feat_selection'].get_support()\n",
        "selected_features = [col for col, keep in zip(X_train.columns, selected_mask) if keep]\n",
        "\n",
        "# Extract final selected features\n",
        "best_features = selected_features\n",
        "\n",
        "# Create DataFrame with selected feature importance\n",
        "df_feature_importance = pd.DataFrame({\n",
        "    'Feature': selected_features,\n",
        "    'Importance': best_pipeline['model'].feature_importances_\n",
        "}).sort_values(by='Importance', ascending=False)\n",
        "\n",
        "# Print the most important features\n",
        "print(f\"* These are the {len(best_features)} most important features in descending order. \"\n",
        "      f\"The model was trained on them: \\n{df_feature_importance['Feature'].to_list()}\")\n",
        "\n",
        "# Plot feature importance\n",
        "df_feature_importance.plot(kind='bar', x='Feature', y='Importance')\n",
        "plt.show()\n"
      ]
    },
    {
      "cell_type": "markdown",
      "metadata": {},
      "source": [
        "### Evaluate Model Performance"
      ]
    },
    {
      "cell_type": "code",
      "execution_count": null,
      "metadata": {},
      "outputs": [],
      "source": [
        "regression_performance(X_train, y_train, X_test, y_test,best_pipeline)\n",
        "regression_evaluation_plots(X_train, y_train, X_test, y_test, best_pipeline)\n"
      ]
    },
    {
      "cell_type": "markdown",
      "metadata": {},
      "source": [
        "**The R2 score on the test set is 0.753, this means it passes the goal to perform above an R2 score of at least 0.75. This is a great result and may be the best model, however it may have trouble predicting price above £400,000**"
      ]
    },
    {
      "cell_type": "markdown",
      "metadata": {},
      "source": [
        "## 3. GradientBoostingRegressor"
      ]
    },
    {
      "cell_type": "code",
      "execution_count": null,
      "metadata": {},
      "outputs": [],
      "source": [
        "best_model = grid_search_summary.iloc[7,0]\n",
        "best_model"
      ]
    },
    {
      "cell_type": "markdown",
      "metadata": {},
      "source": [
        "* Best model parameters"
      ]
    },
    {
      "cell_type": "code",
      "execution_count": null,
      "metadata": {},
      "outputs": [],
      "source": [
        "grid_search_pipelines[best_model].best_params_"
      ]
    },
    {
      "cell_type": "markdown",
      "metadata": {},
      "source": [
        "* Best model pipeline"
      ]
    },
    {
      "cell_type": "code",
      "execution_count": null,
      "metadata": {},
      "outputs": [],
      "source": [
        "best_pipeline = grid_search_pipelines[best_model].best_estimator_\n",
        "best_pipeline"
      ]
    },
    {
      "cell_type": "markdown",
      "metadata": {},
      "source": [
        "## Assess Feature Importance"
      ]
    },
    {
      "cell_type": "code",
      "execution_count": null,
      "metadata": {},
      "outputs": [],
      "source": [
        "import matplotlib.pyplot as plt\n",
        "import seaborn as sns\n",
        "import pandas as pd\n",
        "from sklearn.pipeline import Pipeline\n",
        "\n",
        "sns.set_style('whitegrid')\n",
        "\n",
        "# Apply pipeline transformation to X_train\n",
        "transformed_array = Pipeline(best_pipeline.steps[:4]).transform(X_train)\n",
        "\n",
        "# Extract selected features correctly\n",
        "selected_mask = best_pipeline['feat_selection'].get_support()\n",
        "selected_features = [col for col, keep in zip(X_train.columns, selected_mask) if keep]\n",
        "\n",
        "# Extract final selected features\n",
        "best_features = selected_features\n",
        "\n",
        "# Create DataFrame with selected feature importance\n",
        "df_feature_importance = pd.DataFrame({\n",
        "    'Feature': selected_features,\n",
        "    'Importance': best_pipeline['model'].feature_importances_\n",
        "}).sort_values(by='Importance', ascending=False)\n",
        "\n",
        "# Print the most important features\n",
        "print(f\"* These are the {len(best_features)} most important features in descending order. \"\n",
        "      f\"The model was trained on them: \\n{df_feature_importance['Feature'].to_list()}\")\n",
        "\n",
        "# Plot feature importance\n",
        "df_feature_importance.plot(kind='bar', x='Feature', y='Importance')\n",
        "plt.show()"
      ]
    },
    {
      "cell_type": "markdown",
      "metadata": {},
      "source": [
        "### Evaluate Model Performance"
      ]
    },
    {
      "cell_type": "code",
      "execution_count": null,
      "metadata": {},
      "outputs": [],
      "source": [
        "regression_performance(X_train, y_train, X_test, y_test,best_pipeline)\n",
        "regression_evaluation_plots(X_train, y_train, X_test, y_test, best_pipeline)"
      ]
    },
    {
      "cell_type": "markdown",
      "metadata": {},
      "source": [
        "**The R2 score on the test set is 0.76. It passes the R2 performance requirement of 0.75 however the model is has not predicted any values above circa £450,000.**"
      ]
    },
    {
      "cell_type": "markdown",
      "metadata": {},
      "source": [
        "## 4. LinearRegression"
      ]
    },
    {
      "cell_type": "code",
      "execution_count": null,
      "metadata": {},
      "outputs": [],
      "source": [
        "best_model = grid_search_summary.iloc[0,0]\n",
        "best_model"
      ]
    },
    {
      "cell_type": "markdown",
      "metadata": {},
      "source": [
        "* Best model parameters"
      ]
    },
    {
      "cell_type": "code",
      "execution_count": null,
      "metadata": {},
      "outputs": [],
      "source": [
        "grid_search_pipelines[best_model].best_params_"
      ]
    },
    {
      "cell_type": "markdown",
      "metadata": {},
      "source": [
        "* Best model pipeline"
      ]
    },
    {
      "cell_type": "code",
      "execution_count": null,
      "metadata": {},
      "outputs": [],
      "source": [
        "best_pipeline = grid_search_pipelines[best_model].best_estimator_\n",
        "best_pipeline\n"
      ]
    },
    {
      "cell_type": "markdown",
      "metadata": {},
      "source": [
        "## Assess Feature Importance"
      ]
    },
    {
      "cell_type": "markdown",
      "metadata": {},
      "source": [
        "LinearRegression has no feature importance so we can remove the df_feature_importance from this assessment"
      ]
    },
    {
      "cell_type": "code",
      "execution_count": null,
      "metadata": {},
      "outputs": [],
      "source": [
        "import matplotlib.pyplot as plt\n",
        "import seaborn as sns\n",
        "import pandas as pd\n",
        "from sklearn.pipeline import Pipeline\n",
        "\n",
        "sns.set_style('whitegrid')\n",
        "\n",
        "# Apply pipeline transformation to X_train\n",
        "transformed_array = Pipeline(best_pipeline.steps[:4]).transform(X_train)\n",
        "\n",
        "# Extract selected features correctly\n",
        "selected_mask = best_pipeline['feat_selection'].get_support()\n",
        "selected_features = [col for col, keep in zip(X_train.columns, selected_mask) if keep]\n"
      ]
    },
    {
      "cell_type": "markdown",
      "metadata": {},
      "source": [
        "### Evaluate Model Performance"
      ]
    },
    {
      "cell_type": "code",
      "execution_count": null,
      "metadata": {},
      "outputs": [],
      "source": [
        "regression_performance(X_train, y_train, X_test, y_test,best_pipeline)\n",
        "regression_evaluation_plots(X_train, y_train, X_test, y_test, best_pipeline)"
      ]
    },
    {
      "cell_type": "markdown",
      "metadata": {},
      "source": [
        "**The R2 score on the test set is 0.64. It does not pass the R2 performance requirement of 0.75.**"
      ]
    },
    {
      "cell_type": "markdown",
      "metadata": {},
      "source": [
        "# Refit the pipeline with best features"
      ]
    },
    {
      "cell_type": "markdown",
      "metadata": {},
      "source": [
        "**We chose to fit RandomForestRegressor**"
      ]
    },
    {
      "cell_type": "code",
      "execution_count": null,
      "metadata": {},
      "outputs": [],
      "source": [
        "best_model = grid_search_summary.iloc[45,0]\n",
        "best_model"
      ]
    },
    {
      "cell_type": "code",
      "execution_count": null,
      "metadata": {},
      "outputs": [],
      "source": [
        "grid_search_pipelines[best_model].best_params_\n"
      ]
    },
    {
      "cell_type": "code",
      "execution_count": null,
      "metadata": {},
      "outputs": [],
      "source": [
        "best_pipeline = grid_search_pipelines[best_model].best_estimator_\n",
        "best_pipeline"
      ]
    },
    {
      "cell_type": "markdown",
      "metadata": {},
      "source": [
        "## Assess Feature Importance"
      ]
    },
    {
      "cell_type": "code",
      "execution_count": null,
      "metadata": {},
      "outputs": [],
      "source": [
        "import matplotlib.pyplot as plt\n",
        "import seaborn as sns\n",
        "import pandas as pd\n",
        "from sklearn.pipeline import Pipeline\n",
        "\n",
        "sns.set_style('whitegrid')\n",
        "\n",
        "# Apply pipeline transformation to X_train\n",
        "transformed_array = Pipeline(best_pipeline.steps[:4]).transform(X_train)\n",
        "\n",
        "# Extract selected features correctly\n",
        "selected_mask = best_pipeline['feat_selection'].get_support()\n",
        "selected_features = [col for col, keep in zip(X_train.columns, selected_mask) if keep]\n",
        "\n",
        "# Extract final selected features\n",
        "best_features = selected_features\n",
        "\n",
        "# Create DataFrame with selected feature importance\n",
        "df_feature_importance = pd.DataFrame({\n",
        "    'Feature': selected_features,\n",
        "    'Importance': best_pipeline['model'].feature_importances_\n",
        "}).sort_values(by='Importance', ascending=False)\n",
        "\n",
        "# Print the most important features\n",
        "print(f\"* These are the {len(best_features)} most important features in descending order. \"\n",
        "      f\"The model was trained on them: \\n{df_feature_importance['Feature'].to_list()}\")\n",
        "\n",
        "# Plot feature importance\n",
        "df_feature_importance.plot(kind='bar', x='Feature', y='Importance')\n",
        "plt.show()\n"
      ]
    },
    {
      "cell_type": "markdown",
      "metadata": {},
      "source": [
        "**The RandomForestRegressor pipeline is only trained on 3 features out of the 23 so we updated the pipeline, training set and test set so that the model is smaller and can be more efficient when predicting sale price**"
      ]
    },
    {
      "cell_type": "code",
      "execution_count": 60,
      "metadata": {},
      "outputs": [],
      "source": [
        "def PipelineOptimization(dic, vars_with_missing_data, model):\n",
        "    \n",
        "      pipeline = Pipeline([\n",
        "            (\"feat_scaling\", StandardScaler()),\n",
        "            (\"model\", RandomForestRegressor(n_estimators=300, max_depth=20, min_samples_split=5, min_samples_leaf=2))\n",
        "])\n",
        "\n",
        "\n",
        "      return pipeline"
      ]
    },
    {
      "cell_type": "markdown",
      "metadata": {},
      "source": [
        "## Update the Train Set and Test Set"
      ]
    },
    {
      "cell_type": "code",
      "execution_count": null,
      "metadata": {},
      "outputs": [],
      "source": [
        "X_train = X_train.filter(best_features)\n",
        "X_test = X_test.filter(best_features)\n",
        "\n",
        "print(\"* Train set:\", X_train.shape, y_train.shape, \"\\n* Test set:\",  X_test.shape, y_test.shape)\n",
        "X_train.head(3)"
      ]
    },
    {
      "cell_type": "markdown",
      "metadata": {},
      "source": [
        "## Grid Search CV - SciKit Learn"
      ]
    },
    {
      "cell_type": "code",
      "execution_count": 62,
      "metadata": {},
      "outputs": [],
      "source": [
        "models_search = {\n",
        "    \"RandomForestRegressor\": RandomForestRegressor(random_state=0),\n",
        "}\n",
        "\n",
        "params_search = {\n",
        "    \"RandomForestRegressor\": {\n",
        "        'model__n_estimators': [200, 300],\n",
        "        'model__max_depth': [10, 20, None],\n",
        "        'model__min_samples_split': [2, 5, 10],\n",
        "        'model__min_samples_leaf': [1, 2, 5],\n",
        "        'model__max_leaf_nodes': [None, 100]\n",
        "    }\n",
        "}\n"
      ]
    },
    {
      "cell_type": "markdown",
      "metadata": {},
      "source": [
        "### Train the new models with GridSearchCV"
      ]
    },
    {
      "cell_type": "code",
      "execution_count": null,
      "metadata": {},
      "outputs": [],
      "source": [
        "search = HyperparameterOptimizationSearch(dic=dic, vars_with_missing_data=vars_with_missing_data, models=models_search, params=params_search)\n",
        "search.fit(X_train, y_train, scoring = 'r2', n_jobs=-1, cv=5)"
      ]
    },
    {
      "cell_type": "markdown",
      "metadata": {},
      "source": [
        "### Show the Results"
      ]
    },
    {
      "cell_type": "code",
      "execution_count": null,
      "metadata": {},
      "outputs": [],
      "source": [
        "grid_search_summary, grid_search_pipelines = search.score_summary(sort_by='mean_score')\n",
        "grid_search_summary"
      ]
    },
    {
      "cell_type": "code",
      "execution_count": null,
      "metadata": {},
      "outputs": [],
      "source": [
        "best_model = grid_search_summary.iloc[0,0]\n",
        "best_model"
      ]
    },
    {
      "cell_type": "code",
      "execution_count": null,
      "metadata": {},
      "outputs": [],
      "source": [
        "best_pipeline = grid_search_pipelines[best_model].best_estimator_\n",
        "best_pipeline\n"
      ]
    },
    {
      "cell_type": "code",
      "execution_count": null,
      "metadata": {},
      "outputs": [],
      "source": [
        "regression_performance(X_train, y_train, X_test, y_test, best_pipeline)\n",
        "regression_evaluation_plots(X_train, y_train, X_test, y_test, best_pipeline)"
      ]
    },
    {
      "cell_type": "markdown",
      "metadata": {},
      "source": [
        "### Refit the model with 2 strongly correlated features"
      ]
    },
    {
      "cell_type": "markdown",
      "metadata": {},
      "source": [
        "Import everything we'll need"
      ]
    },
    {
      "cell_type": "code",
      "execution_count": 49,
      "metadata": {},
      "outputs": [],
      "source": [
        "import pandas as pd\n",
        "from sklearn.model_selection import train_test_split\n",
        "from sklearn.linear_model import LinearRegression\n",
        "from sklearn.ensemble import GradientBoostingRegressor, RandomForestRegressor, ExtraTreesRegressor\n",
        "from sklearn.metrics import mean_absolute_error, r2_score"
      ]
    },
    {
      "cell_type": "markdown",
      "metadata": {},
      "source": [
        "* **First lets get the 2 most strongly correlated features**"
      ]
    },
    {
      "cell_type": "code",
      "execution_count": null,
      "metadata": {},
      "outputs": [],
      "source": [
        "corr_matrix = df.corr()\n",
        "\n",
        "# Get top 2 features correlated with SalePrice (excluding SalePrice itself)\n",
        "top_features = corr_matrix[\"SalePrice\"].drop(\"SalePrice\").abs().sort_values(ascending=False).head(2).index.tolist()\n",
        "\n",
        "print(\"Top 2 features correlated with SalePrice:\", top_features)\n"
      ]
    },
    {
      "cell_type": "markdown",
      "metadata": {},
      "source": [
        "* As expected we can see that they are the Overall Quality and the Groud Living Area m^2."
      ]
    },
    {
      "cell_type": "markdown",
      "metadata": {},
      "source": [
        "### Split the new train and test data"
      ]
    },
    {
      "cell_type": "code",
      "execution_count": null,
      "metadata": {},
      "outputs": [],
      "source": [
        "# Use only the top 2 correlated features\n",
        "X = df[top_features]  \n",
        "y = df[\"SalePrice\"]\n",
        "\n",
        "X_train, X_test, y_train, y_test = train_test_split(X, y, test_size=0.2, random_state=0)\n",
        "\n",
        "print(X_train.shape, X_test.shape)"
      ]
    },
    {
      "cell_type": "markdown",
      "metadata": {},
      "source": [
        "#### **Train the Models**"
      ]
    },
    {
      "cell_type": "code",
      "execution_count": null,
      "metadata": {},
      "outputs": [],
      "source": [
        "# Define models in a dictionary\n",
        "models = {\n",
        "    \"Linear Regression\": LinearRegression(),\n",
        "    \"Gradient Boosting\": GradientBoostingRegressor(n_estimators=100, random_state=0),\n",
        "    \"Random Forest\": RandomForestRegressor(n_estimators=100, random_state=0),\n",
        "    \"Extra Trees\": ExtraTreesRegressor(n_estimators=100, random_state=0),\n",
        "}\n",
        "\n",
        "# Train, predict, and evaluate each model\n",
        "for name, model in models.items():\n",
        "    model.fit(X_train, y_train)\n",
        "    y_pred = model.predict(X_test)\n",
        "    \n",
        "    mae = mean_absolute_error(y_test, y_pred)\n",
        "    r2 = r2_score(y_test, y_pred)\n",
        "    \n",
        "    print(f\"{name} Performance with Top 2 Features:\\nMAE: {mae:.2f}, R²: {r2:.4f}\\n\")\n"
      ]
    },
    {
      "cell_type": "markdown",
      "metadata": {},
      "source": [
        "* **As we can see there are only 2 models here that are over the 0.75 that the client asked for which are the 'GradientBoostingRegressor' and 'RandomForestRegressor'. The 'GradientBoostingRegressor' performance is much better as it has a lower MAE and higher R2 score meaning it can more accurately predict 'SalePrice'**"
      ]
    },
    {
      "cell_type": "code",
      "execution_count": null,
      "metadata": {},
      "outputs": [],
      "source": [
        "from sklearn.model_selection import GridSearchCV\n",
        "from sklearn.ensemble import GradientBoostingRegressor\n",
        "\n",
        "# Define hyperparameter grid\n",
        "param_grid = {\n",
        "    'n_estimators': [100, 200, 300],\n",
        "    'learning_rate': [0.1, 0.05, 0.01],\n",
        "    'max_depth': [3, 5, 7],\n",
        "    'min_samples_split': [2, 5, 10],\n",
        "    'min_samples_leaf': [1, 3, 5]\n",
        "}\n",
        "\n",
        "# Initialize the model\n",
        "gb_model = GradientBoostingRegressor(random_state=0)\n",
        "\n",
        "# Perform Grid Search\n",
        "grid_search = GridSearchCV(gb_model, param_grid, cv=5, n_jobs=-1, scoring='r2', verbose=2)\n",
        "grid_search.fit(X_train, y_train)\n",
        "\n",
        "best_gb_model = grid_search.best_estimator_\n",
        "\n",
        "# Print best hyperparameters\n",
        "print(\"Best Hyperparameters:\", grid_search.best_params_)\n",
        "\n",
        "# Evaluate the tuned model\n",
        "y_pred = grid_search.best_estimator_.predict(X_test)\n",
        "mae = mean_absolute_error(y_test, y_pred)\n",
        "r2 = r2_score(y_test, y_pred)\n",
        "\n",
        "print(f\"Tuned Gradient Boosting Model Performance:\\nMAE: {mae:.2f}, R²: {r2:.4f}\")\n"
      ]
    },
    {
      "cell_type": "markdown",
      "metadata": {},
      "source": [
        "* After tuning the GDR we see that it still has a lower MAE score and high enough R2 score we can now use this to predict house prices"
      ]
    },
    {
      "cell_type": "code",
      "execution_count": null,
      "metadata": {},
      "outputs": [],
      "source": [
        "# Make predictions on the test set\n",
        "y_pred = best_gb_model.predict(X_test)\n",
        "\n",
        "# Compare the first few predictions with actual values\n",
        "predictions_df = pd.DataFrame({'Actual': y_test.values, 'Predicted': y_pred})\n",
        "print(predictions_df.head(20))  # Show first 10 predictions\n"
      ]
    },
    {
      "cell_type": "markdown",
      "metadata": {},
      "source": [
        "### Save all the files neccassary from the notebook"
      ]
    },
    {
      "cell_type": "code",
      "execution_count": null,
      "metadata": {},
      "outputs": [],
      "source": [
        "import joblib\n",
        "import os\n",
        "\n",
        "version = 'v1'\n",
        "file_path = f'outputs/predict_price/{version}'\n",
        "\n",
        "try:\n",
        "  os.makedirs(name=file_path)\n",
        "except Exception as e:\n",
        "  print(e)"
      ]
    },
    {
      "cell_type": "markdown",
      "metadata": {},
      "source": [
        "#### Save Train Set:"
      ]
    },
    {
      "cell_type": "code",
      "execution_count": null,
      "metadata": {},
      "outputs": [],
      "source": [
        "X_train.head()\n"
      ]
    },
    {
      "cell_type": "code",
      "execution_count": null,
      "metadata": {},
      "outputs": [],
      "source": [
        "X_train.to_csv(f\"{file_path}/X_train.csv\", index=False)"
      ]
    },
    {
      "cell_type": "code",
      "execution_count": null,
      "metadata": {},
      "outputs": [],
      "source": [
        "y_train.head()"
      ]
    },
    {
      "cell_type": "code",
      "execution_count": 74,
      "metadata": {},
      "outputs": [],
      "source": [
        "y_train.to_csv(f\"{file_path}/y_train.csv\", index=False)"
      ]
    },
    {
      "cell_type": "markdown",
      "metadata": {},
      "source": [
        "#### Save Test Set:"
      ]
    },
    {
      "cell_type": "code",
      "execution_count": null,
      "metadata": {},
      "outputs": [],
      "source": [
        "X_test.head()"
      ]
    },
    {
      "cell_type": "code",
      "execution_count": 76,
      "metadata": {},
      "outputs": [],
      "source": [
        "X_test.to_csv(f\"{file_path}/X_test.csv\", index=False)"
      ]
    },
    {
      "cell_type": "code",
      "execution_count": null,
      "metadata": {},
      "outputs": [],
      "source": [
        "y_test.head()"
      ]
    },
    {
      "cell_type": "code",
      "execution_count": 78,
      "metadata": {},
      "outputs": [],
      "source": [
        "y_test.to_csv(f\"{file_path}/y_test.csv\", index=False)"
      ]
    },
    {
      "cell_type": "markdown",
      "metadata": {},
      "source": [
        "#### Modeling Pipeline"
      ]
    },
    {
      "cell_type": "code",
      "execution_count": null,
      "metadata": {},
      "outputs": [],
      "source": [
        "best_gb_model"
      ]
    },
    {
      "cell_type": "code",
      "execution_count": null,
      "metadata": {},
      "outputs": [],
      "source": [
        "joblib.dump(value=best_pipeline, filename=f\"{file_path}/best_pipeline.pkl\")"
      ]
    }
  ],
  "metadata": {
    "accelerator": "GPU",
    "colab": {
      "name": "Data Practitioner Jupyter Notebook.ipynb",
      "provenance": [],
      "toc_visible": true
    },
    "kernelspec": {
      "display_name": "Python 3",
      "language": "python",
      "name": "python3"
    },
    "language_info": {
      "codemirror_mode": {
        "name": "ipython",
        "version": 3
      },
      "file_extension": ".py",
      "mimetype": "text/x-python",
      "name": "python",
      "nbconvert_exporter": "python",
      "pygments_lexer": "ipython3",
      "version": "3.12.2"
    },
    "orig_nbformat": 2
  },
  "nbformat": 4,
  "nbformat_minor": 2
}
